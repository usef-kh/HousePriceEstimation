{
  "nbformat": 4,
  "nbformat_minor": 0,
  "metadata": {
    "colab": {
      "name": "Untitled1.ipynb",
      "version": "0.3.2",
      "provenance": [],
      "collapsed_sections": []
    },
    "kernelspec": {
      "name": "python3",
      "display_name": "Python 3"
    },
    "accelerator": "GPU"
  },
  "cells": [
    {
      "cell_type": "code",
      "metadata": {
        "id": "h_OnRw7unQZx",
        "colab_type": "code",
        "colab": {
          "base_uri": "https://localhost:8080/",
          "height": 204
        },
        "outputId": "4bb66442-c28a-4aea-d479-add682dbfcc9"
      },
      "source": [
        "import pandas as pd\n",
        "import keras\n",
        "from keras import models\n",
        "from keras.layers import Embedding, Dense, Flatten\n",
        "import os\n",
        "import numpy as np\n",
        "import matplotlib.pyplot as plt\n",
        "from mpl_toolkits.mplot3d import Axes3D\n",
        "import sklearn\n",
        "from sklearn.preprocessing import MinMaxScaler\n",
        "%matplotlib inline \n",
        "\n",
        "# File loaded from Github Repo\n",
        "file_path = 'https://raw.githubusercontent.com/usef-kh/HousePriceEstimation/master/Bike%20Share%20Data/Data/bike_sharing_daily.csv'\n",
        "\n",
        "data_df = pd.read_csv(file_path)\n",
        "\n",
        "data_df['Date_dt'] = pd.to_datetime(data_df['dteday'])\n",
        "data_small_df = data_df[['Date_dt','cnt','mnth']]\n",
        "# data_small_df['Day'] = data_small_df['Date_dt'].dt.dayofweek\n",
        "data_small_df.head() \n",
        "\n",
        "# data_small_df = data_small_df.sort_values(by=['Day'])"
      ],
      "execution_count": 103,
      "outputs": [
        {
          "output_type": "execute_result",
          "data": {
            "text/html": [
              "<div>\n",
              "<style scoped>\n",
              "    .dataframe tbody tr th:only-of-type {\n",
              "        vertical-align: middle;\n",
              "    }\n",
              "\n",
              "    .dataframe tbody tr th {\n",
              "        vertical-align: top;\n",
              "    }\n",
              "\n",
              "    .dataframe thead th {\n",
              "        text-align: right;\n",
              "    }\n",
              "</style>\n",
              "<table border=\"1\" class=\"dataframe\">\n",
              "  <thead>\n",
              "    <tr style=\"text-align: right;\">\n",
              "      <th></th>\n",
              "      <th>Date_dt</th>\n",
              "      <th>cnt</th>\n",
              "      <th>mnth</th>\n",
              "    </tr>\n",
              "  </thead>\n",
              "  <tbody>\n",
              "    <tr>\n",
              "      <th>0</th>\n",
              "      <td>2011-01-01</td>\n",
              "      <td>985</td>\n",
              "      <td>1</td>\n",
              "    </tr>\n",
              "    <tr>\n",
              "      <th>1</th>\n",
              "      <td>2011-01-02</td>\n",
              "      <td>801</td>\n",
              "      <td>1</td>\n",
              "    </tr>\n",
              "    <tr>\n",
              "      <th>2</th>\n",
              "      <td>2011-01-03</td>\n",
              "      <td>1349</td>\n",
              "      <td>1</td>\n",
              "    </tr>\n",
              "    <tr>\n",
              "      <th>3</th>\n",
              "      <td>2011-01-04</td>\n",
              "      <td>1562</td>\n",
              "      <td>1</td>\n",
              "    </tr>\n",
              "    <tr>\n",
              "      <th>4</th>\n",
              "      <td>2011-01-05</td>\n",
              "      <td>1600</td>\n",
              "      <td>1</td>\n",
              "    </tr>\n",
              "  </tbody>\n",
              "</table>\n",
              "</div>"
            ],
            "text/plain": [
              "     Date_dt   cnt  mnth\n",
              "0 2011-01-01   985     1\n",
              "1 2011-01-02   801     1\n",
              "2 2011-01-03  1349     1\n",
              "3 2011-01-04  1562     1\n",
              "4 2011-01-05  1600     1"
            ]
          },
          "metadata": {
            "tags": []
          },
          "execution_count": 103
        }
      ]
    },
    {
      "cell_type": "code",
      "metadata": {
        "id": "K42UxDaJy4L5",
        "colab_type": "code",
        "colab": {
          "base_uri": "https://localhost:8080/",
          "height": 204
        },
        "outputId": "db5b66cb-6650-4802-b953-877bda8e0d57"
      },
      "source": [
        " data_small_df = data_small_df.sort_values(by=['mnth','Date_dt'])\n",
        "data_small_df.head() "
      ],
      "execution_count": 104,
      "outputs": [
        {
          "output_type": "execute_result",
          "data": {
            "text/html": [
              "<div>\n",
              "<style scoped>\n",
              "    .dataframe tbody tr th:only-of-type {\n",
              "        vertical-align: middle;\n",
              "    }\n",
              "\n",
              "    .dataframe tbody tr th {\n",
              "        vertical-align: top;\n",
              "    }\n",
              "\n",
              "    .dataframe thead th {\n",
              "        text-align: right;\n",
              "    }\n",
              "</style>\n",
              "<table border=\"1\" class=\"dataframe\">\n",
              "  <thead>\n",
              "    <tr style=\"text-align: right;\">\n",
              "      <th></th>\n",
              "      <th>Date_dt</th>\n",
              "      <th>cnt</th>\n",
              "      <th>mnth</th>\n",
              "    </tr>\n",
              "  </thead>\n",
              "  <tbody>\n",
              "    <tr>\n",
              "      <th>0</th>\n",
              "      <td>2011-01-01</td>\n",
              "      <td>985</td>\n",
              "      <td>1</td>\n",
              "    </tr>\n",
              "    <tr>\n",
              "      <th>1</th>\n",
              "      <td>2011-01-02</td>\n",
              "      <td>801</td>\n",
              "      <td>1</td>\n",
              "    </tr>\n",
              "    <tr>\n",
              "      <th>2</th>\n",
              "      <td>2011-01-03</td>\n",
              "      <td>1349</td>\n",
              "      <td>1</td>\n",
              "    </tr>\n",
              "    <tr>\n",
              "      <th>3</th>\n",
              "      <td>2011-01-04</td>\n",
              "      <td>1562</td>\n",
              "      <td>1</td>\n",
              "    </tr>\n",
              "    <tr>\n",
              "      <th>4</th>\n",
              "      <td>2011-01-05</td>\n",
              "      <td>1600</td>\n",
              "      <td>1</td>\n",
              "    </tr>\n",
              "  </tbody>\n",
              "</table>\n",
              "</div>"
            ],
            "text/plain": [
              "     Date_dt   cnt  mnth\n",
              "0 2011-01-01   985     1\n",
              "1 2011-01-02   801     1\n",
              "2 2011-01-03  1349     1\n",
              "3 2011-01-04  1562     1\n",
              "4 2011-01-05  1600     1"
            ]
          },
          "metadata": {
            "tags": []
          },
          "execution_count": 104
        }
      ]
    },
    {
      "cell_type": "code",
      "metadata": {
        "id": "i7ofOX1mcomD",
        "colab_type": "code",
        "colab": {
          "base_uri": "https://localhost:8080/",
          "height": 204
        },
        "outputId": "84578c63-d72b-439b-a2fc-f265bf06d73b"
      },
      "source": [
        "scaler = MinMaxScaler()\n",
        "data_small_df['cnt_Scaled'] = scaler.fit_transform(data_small_df[['cnt']])\n",
        "data_small_df.head()"
      ],
      "execution_count": 105,
      "outputs": [
        {
          "output_type": "execute_result",
          "data": {
            "text/html": [
              "<div>\n",
              "<style scoped>\n",
              "    .dataframe tbody tr th:only-of-type {\n",
              "        vertical-align: middle;\n",
              "    }\n",
              "\n",
              "    .dataframe tbody tr th {\n",
              "        vertical-align: top;\n",
              "    }\n",
              "\n",
              "    .dataframe thead th {\n",
              "        text-align: right;\n",
              "    }\n",
              "</style>\n",
              "<table border=\"1\" class=\"dataframe\">\n",
              "  <thead>\n",
              "    <tr style=\"text-align: right;\">\n",
              "      <th></th>\n",
              "      <th>Date_dt</th>\n",
              "      <th>cnt</th>\n",
              "      <th>mnth</th>\n",
              "      <th>cnt_Scaled</th>\n",
              "    </tr>\n",
              "  </thead>\n",
              "  <tbody>\n",
              "    <tr>\n",
              "      <th>0</th>\n",
              "      <td>2011-01-01</td>\n",
              "      <td>985</td>\n",
              "      <td>1</td>\n",
              "      <td>0.110792</td>\n",
              "    </tr>\n",
              "    <tr>\n",
              "      <th>1</th>\n",
              "      <td>2011-01-02</td>\n",
              "      <td>801</td>\n",
              "      <td>1</td>\n",
              "      <td>0.089623</td>\n",
              "    </tr>\n",
              "    <tr>\n",
              "      <th>2</th>\n",
              "      <td>2011-01-03</td>\n",
              "      <td>1349</td>\n",
              "      <td>1</td>\n",
              "      <td>0.152669</td>\n",
              "    </tr>\n",
              "    <tr>\n",
              "      <th>3</th>\n",
              "      <td>2011-01-04</td>\n",
              "      <td>1562</td>\n",
              "      <td>1</td>\n",
              "      <td>0.177174</td>\n",
              "    </tr>\n",
              "    <tr>\n",
              "      <th>4</th>\n",
              "      <td>2011-01-05</td>\n",
              "      <td>1600</td>\n",
              "      <td>1</td>\n",
              "      <td>0.181546</td>\n",
              "    </tr>\n",
              "  </tbody>\n",
              "</table>\n",
              "</div>"
            ],
            "text/plain": [
              "     Date_dt   cnt  mnth  cnt_Scaled\n",
              "0 2011-01-01   985     1    0.110792\n",
              "1 2011-01-02   801     1    0.089623\n",
              "2 2011-01-03  1349     1    0.152669\n",
              "3 2011-01-04  1562     1    0.177174\n",
              "4 2011-01-05  1600     1    0.181546"
            ]
          },
          "metadata": {
            "tags": []
          },
          "execution_count": 105
        }
      ]
    },
    {
      "cell_type": "code",
      "metadata": {
        "id": "Wc7xxeGEdjK3",
        "colab_type": "code",
        "colab": {
          "base_uri": "https://localhost:8080/",
          "height": 34
        },
        "outputId": "8fd94cad-d8f1-46df-a13a-aab18118f401"
      },
      "source": [
        " data_small_df['mnth'].unique()"
      ],
      "execution_count": 106,
      "outputs": [
        {
          "output_type": "execute_result",
          "data": {
            "text/plain": [
              "array([ 1,  2,  3,  4,  5,  6,  7,  8,  9, 10, 11, 12])"
            ]
          },
          "metadata": {
            "tags": []
          },
          "execution_count": 106
        }
      ]
    },
    {
      "cell_type": "code",
      "metadata": {
        "id": "YFl4hLPDeKak",
        "colab_type": "code",
        "colab": {}
      },
      "source": [
        "data_small_df['mnth'] = data_small_df['mnth']-1\n",
        "data_small_df['mnth'] = data_small_df['mnth'].astype(int)"
      ],
      "execution_count": 0,
      "outputs": []
    },
    {
      "cell_type": "code",
      "metadata": {
        "id": "OTNWPJazeMvs",
        "colab_type": "code",
        "colab": {
          "base_uri": "https://localhost:8080/",
          "height": 1000
        },
        "outputId": "e81db38a-c9fb-4582-e4b6-4ef0cbc40a1c"
      },
      "source": [
        "\n",
        "embedding_size = 6\n",
        "\n",
        "model = models.Sequential()\n",
        "model.add(Embedding(input_dim = 12, output_dim = embedding_size, input_length = 1, name=\"embedding\"))\n",
        "model.add(Flatten())\n",
        "model.add(Dense(50, activation=\"relu\"))\n",
        "model.add(Dense(15, activation=\"relu\"))\n",
        "model.add(Dense(1))\n",
        "model.compile(loss = \"mse\", optimizer = \"adam\", metrics=[\"accuracy\"])\n",
        "model.fit(x = data_small_df['mnth'].as_matrix(), y=data_small_df['cnt_Scaled'].as_matrix() , epochs = 50, batch_size = 4)"
      ],
      "execution_count": 119,
      "outputs": [
        {
          "output_type": "stream",
          "text": [
            "/usr/local/lib/python3.6/dist-packages/ipykernel_launcher.py:11: FutureWarning: Method .as_matrix will be removed in a future version. Use .values instead.\n",
            "  # This is added back by InteractiveShellApp.init_path()\n"
          ],
          "name": "stderr"
        },
        {
          "output_type": "stream",
          "text": [
            "Epoch 1/50\n",
            "731/731 [==============================] - 1s 2ms/step - loss: 0.0741 - acc: 0.0014\n",
            "Epoch 2/50\n",
            "731/731 [==============================] - 1s 847us/step - loss: 0.0316 - acc: 0.0014\n",
            "Epoch 3/50\n",
            "731/731 [==============================] - 1s 833us/step - loss: 0.0317 - acc: 0.0014\n",
            "Epoch 4/50\n",
            "731/731 [==============================] - 1s 857us/step - loss: 0.0325 - acc: 0.0014\n",
            "Epoch 5/50\n",
            "731/731 [==============================] - 1s 902us/step - loss: 0.0314 - acc: 0.0014\n",
            "Epoch 6/50\n",
            "731/731 [==============================] - 1s 796us/step - loss: 0.0315 - acc: 0.0014\n",
            "Epoch 7/50\n",
            "731/731 [==============================] - 1s 850us/step - loss: 0.0316 - acc: 0.0014\n",
            "Epoch 8/50\n",
            "731/731 [==============================] - 1s 830us/step - loss: 0.0313 - acc: 0.0014\n",
            "Epoch 9/50\n",
            "731/731 [==============================] - 1s 826us/step - loss: 0.0315 - acc: 0.0014\n",
            "Epoch 10/50\n",
            "731/731 [==============================] - 1s 830us/step - loss: 0.0316 - acc: 0.0014\n",
            "Epoch 11/50\n",
            "731/731 [==============================] - 1s 840us/step - loss: 0.0312 - acc: 0.0014\n",
            "Epoch 12/50\n",
            "731/731 [==============================] - 1s 841us/step - loss: 0.0317 - acc: 0.0014\n",
            "Epoch 13/50\n",
            "731/731 [==============================] - 1s 865us/step - loss: 0.0316 - acc: 0.0014\n",
            "Epoch 14/50\n",
            "731/731 [==============================] - 1s 875us/step - loss: 0.0312 - acc: 0.0014\n",
            "Epoch 15/50\n",
            "731/731 [==============================] - 1s 828us/step - loss: 0.0314 - acc: 0.0014\n",
            "Epoch 16/50\n",
            "731/731 [==============================] - 1s 818us/step - loss: 0.0319 - acc: 0.0014\n",
            "Epoch 17/50\n",
            "731/731 [==============================] - 1s 847us/step - loss: 0.0313 - acc: 0.0014\n",
            "Epoch 18/50\n",
            "731/731 [==============================] - 1s 808us/step - loss: 0.0315 - acc: 0.0014\n",
            "Epoch 19/50\n",
            "731/731 [==============================] - 1s 828us/step - loss: 0.0313 - acc: 0.0014\n",
            "Epoch 20/50\n",
            "731/731 [==============================] - 1s 814us/step - loss: 0.0319 - acc: 0.0014\n",
            "Epoch 21/50\n",
            "731/731 [==============================] - 1s 826us/step - loss: 0.0311 - acc: 0.0014\n",
            "Epoch 22/50\n",
            "731/731 [==============================] - 1s 835us/step - loss: 0.0313 - acc: 0.0014\n",
            "Epoch 23/50\n",
            "731/731 [==============================] - 1s 818us/step - loss: 0.0312 - acc: 0.0014\n",
            "Epoch 24/50\n",
            "731/731 [==============================] - 1s 855us/step - loss: 0.0314 - acc: 0.0014\n",
            "Epoch 25/50\n",
            "731/731 [==============================] - 1s 885us/step - loss: 0.0309 - acc: 0.0014\n",
            "Epoch 26/50\n",
            "731/731 [==============================] - 1s 819us/step - loss: 0.0315 - acc: 0.0014\n",
            "Epoch 27/50\n",
            "731/731 [==============================] - 1s 820us/step - loss: 0.0310 - acc: 0.0014\n",
            "Epoch 28/50\n",
            "731/731 [==============================] - 1s 805us/step - loss: 0.0318 - acc: 0.0014\n",
            "Epoch 29/50\n",
            "731/731 [==============================] - 1s 825us/step - loss: 0.0312 - acc: 0.0014\n",
            "Epoch 30/50\n",
            "731/731 [==============================] - 1s 810us/step - loss: 0.0312 - acc: 0.0014\n",
            "Epoch 31/50\n",
            "731/731 [==============================] - 1s 813us/step - loss: 0.0308 - acc: 0.0014\n",
            "Epoch 32/50\n",
            "731/731 [==============================] - 1s 837us/step - loss: 0.0311 - acc: 0.0014\n",
            "Epoch 33/50\n",
            "731/731 [==============================] - 1s 838us/step - loss: 0.0314 - acc: 0.0014\n",
            "Epoch 34/50\n",
            "731/731 [==============================] - 1s 869us/step - loss: 0.0314 - acc: 0.0014\n",
            "Epoch 35/50\n",
            "731/731 [==============================] - 1s 833us/step - loss: 0.0310 - acc: 0.0014\n",
            "Epoch 36/50\n",
            "731/731 [==============================] - 1s 832us/step - loss: 0.0310 - acc: 0.0014\n",
            "Epoch 37/50\n",
            "731/731 [==============================] - 1s 828us/step - loss: 0.0310 - acc: 0.0014\n",
            "Epoch 38/50\n",
            "731/731 [==============================] - 1s 813us/step - loss: 0.0311 - acc: 0.0014\n",
            "Epoch 39/50\n",
            "731/731 [==============================] - 1s 837us/step - loss: 0.0313 - acc: 0.0014\n",
            "Epoch 40/50\n",
            "731/731 [==============================] - 1s 812us/step - loss: 0.0307 - acc: 0.0014\n",
            "Epoch 41/50\n",
            "731/731 [==============================] - 1s 814us/step - loss: 0.0310 - acc: 0.0014\n",
            "Epoch 42/50\n",
            "731/731 [==============================] - 1s 816us/step - loss: 0.0313 - acc: 0.0014\n",
            "Epoch 43/50\n",
            "731/731 [==============================] - 1s 831us/step - loss: 0.0315 - acc: 0.0014\n",
            "Epoch 44/50\n",
            "731/731 [==============================] - 1s 827us/step - loss: 0.0308 - acc: 0.0014\n",
            "Epoch 45/50\n",
            "731/731 [==============================] - 1s 841us/step - loss: 0.0312 - acc: 0.0014\n",
            "Epoch 46/50\n",
            "731/731 [==============================] - 1s 820us/step - loss: 0.0312 - acc: 0.0014\n",
            "Epoch 47/50\n",
            "731/731 [==============================] - 1s 828us/step - loss: 0.0311 - acc: 0.0014\n",
            "Epoch 48/50\n",
            "731/731 [==============================] - 1s 813us/step - loss: 0.0309 - acc: 0.0014\n",
            "Epoch 49/50\n",
            "731/731 [==============================] - 1s 863us/step - loss: 0.0311 - acc: 0.0014\n",
            "Epoch 50/50\n",
            "731/731 [==============================] - 1s 823us/step - loss: 0.0315 - acc: 0.0014\n"
          ],
          "name": "stdout"
        },
        {
          "output_type": "execute_result",
          "data": {
            "text/plain": [
              "<keras.callbacks.History at 0x7f83d2a61780>"
            ]
          },
          "metadata": {
            "tags": []
          },
          "execution_count": 119
        }
      ]
    },
    {
      "cell_type": "code",
      "metadata": {
        "id": "h-dq6yqaePX0",
        "colab_type": "code",
        "colab": {
          "base_uri": "https://localhost:8080/",
          "height": 425
        },
        "outputId": "0f068c86-c4ff-4290-f504-d765590f78f4"
      },
      "source": [
        "layer = model.get_layer('embedding')\n",
        "output_embeddings = layer.get_weights()\n",
        "output_embeddings"
      ],
      "execution_count": 120,
      "outputs": [
        {
          "output_type": "execute_result",
          "data": {
            "text/plain": [
              "[array([[-1.68875962e-01,  1.72837824e-01, -1.30456118e-02,\n",
              "         -2.35097155e-01,  3.68113145e-02, -1.19398035e-01],\n",
              "        [-1.45668268e-01,  1.59749493e-01, -4.71131466e-02,\n",
              "         -1.22840084e-01,  3.11900321e-02, -7.05583617e-02],\n",
              "        [-3.02052367e-02,  5.12198359e-02,  3.74271697e-03,\n",
              "         -7.21529648e-02, -6.71226485e-03, -4.76760641e-02],\n",
              "        [ 3.33581343e-02,  2.30796821e-02, -5.24523901e-03,\n",
              "         -7.22737564e-03,  3.46075208e-03,  4.59943376e-02],\n",
              "        [ 5.97571544e-02, -7.03533739e-02, -4.37050803e-05,\n",
              "          9.15420428e-02,  3.01685999e-03,  3.24270912e-02],\n",
              "        [ 6.21980093e-02, -1.06542885e-01,  5.56195294e-03,\n",
              "          1.02868021e-01,  9.77250375e-03,  1.04151607e-01],\n",
              "        [ 7.78104737e-02, -1.01529025e-01, -2.62297015e-03,\n",
              "          8.84804726e-02, -2.33892910e-03,  6.09676838e-02],\n",
              "        [ 5.78102656e-02, -8.19978416e-02, -9.90176341e-04,\n",
              "          1.00053586e-01, -7.29981461e-04,  1.10571876e-01],\n",
              "        [ 5.54414503e-02, -6.93590641e-02, -1.35104218e-03,\n",
              "          1.31041214e-01,  1.42960493e-02,  1.00964993e-01],\n",
              "        [ 5.85096963e-02, -5.52805923e-02,  1.37230614e-02,\n",
              "          4.20693494e-02, -9.39143728e-03,  4.96360734e-02],\n",
              "        [-6.26257388e-03,  8.99421796e-03, -9.38425213e-03,\n",
              "         -3.37989368e-02, -5.17750741e-04, -8.89070239e-03],\n",
              "        [-6.58593699e-02,  1.18749641e-01,  5.72634803e-04,\n",
              "         -1.28974728e-02, -5.28241321e-03, -1.10994153e-01]], dtype=float32)]"
            ]
          },
          "metadata": {
            "tags": []
          },
          "execution_count": 120
        }
      ]
    },
    {
      "cell_type": "code",
      "metadata": {
        "id": "R25RVWW5eXny",
        "colab_type": "code",
        "colab": {
          "base_uri": "https://localhost:8080/",
          "height": 421
        },
        "outputId": "fdd7d777-5163-4915-824b-b6294eae9602"
      },
      "source": [
        "output_embeddings_df = pd.DataFrame(output_embeddings[0])\n",
        "output_embeddings_df = output_embeddings_df.reset_index()\n",
        "output_embeddings_df.columns = ['mnth', 'embedding_1', 'embedding_2', 'embedding_3','embedding_4', 'embedding_5', 'embedding_6']\n",
        "output_embeddings_df"
      ],
      "execution_count": 121,
      "outputs": [
        {
          "output_type": "execute_result",
          "data": {
            "text/html": [
              "<div>\n",
              "<style scoped>\n",
              "    .dataframe tbody tr th:only-of-type {\n",
              "        vertical-align: middle;\n",
              "    }\n",
              "\n",
              "    .dataframe tbody tr th {\n",
              "        vertical-align: top;\n",
              "    }\n",
              "\n",
              "    .dataframe thead th {\n",
              "        text-align: right;\n",
              "    }\n",
              "</style>\n",
              "<table border=\"1\" class=\"dataframe\">\n",
              "  <thead>\n",
              "    <tr style=\"text-align: right;\">\n",
              "      <th></th>\n",
              "      <th>mnth</th>\n",
              "      <th>embedding_1</th>\n",
              "      <th>embedding_2</th>\n",
              "      <th>embedding_3</th>\n",
              "      <th>embedding_4</th>\n",
              "      <th>embedding_5</th>\n",
              "      <th>embedding_6</th>\n",
              "    </tr>\n",
              "  </thead>\n",
              "  <tbody>\n",
              "    <tr>\n",
              "      <th>0</th>\n",
              "      <td>0</td>\n",
              "      <td>-0.168876</td>\n",
              "      <td>0.172838</td>\n",
              "      <td>-0.013046</td>\n",
              "      <td>-0.235097</td>\n",
              "      <td>0.036811</td>\n",
              "      <td>-0.119398</td>\n",
              "    </tr>\n",
              "    <tr>\n",
              "      <th>1</th>\n",
              "      <td>1</td>\n",
              "      <td>-0.145668</td>\n",
              "      <td>0.159749</td>\n",
              "      <td>-0.047113</td>\n",
              "      <td>-0.122840</td>\n",
              "      <td>0.031190</td>\n",
              "      <td>-0.070558</td>\n",
              "    </tr>\n",
              "    <tr>\n",
              "      <th>2</th>\n",
              "      <td>2</td>\n",
              "      <td>-0.030205</td>\n",
              "      <td>0.051220</td>\n",
              "      <td>0.003743</td>\n",
              "      <td>-0.072153</td>\n",
              "      <td>-0.006712</td>\n",
              "      <td>-0.047676</td>\n",
              "    </tr>\n",
              "    <tr>\n",
              "      <th>3</th>\n",
              "      <td>3</td>\n",
              "      <td>0.033358</td>\n",
              "      <td>0.023080</td>\n",
              "      <td>-0.005245</td>\n",
              "      <td>-0.007227</td>\n",
              "      <td>0.003461</td>\n",
              "      <td>0.045994</td>\n",
              "    </tr>\n",
              "    <tr>\n",
              "      <th>4</th>\n",
              "      <td>4</td>\n",
              "      <td>0.059757</td>\n",
              "      <td>-0.070353</td>\n",
              "      <td>-0.000044</td>\n",
              "      <td>0.091542</td>\n",
              "      <td>0.003017</td>\n",
              "      <td>0.032427</td>\n",
              "    </tr>\n",
              "    <tr>\n",
              "      <th>5</th>\n",
              "      <td>5</td>\n",
              "      <td>0.062198</td>\n",
              "      <td>-0.106543</td>\n",
              "      <td>0.005562</td>\n",
              "      <td>0.102868</td>\n",
              "      <td>0.009773</td>\n",
              "      <td>0.104152</td>\n",
              "    </tr>\n",
              "    <tr>\n",
              "      <th>6</th>\n",
              "      <td>6</td>\n",
              "      <td>0.077810</td>\n",
              "      <td>-0.101529</td>\n",
              "      <td>-0.002623</td>\n",
              "      <td>0.088480</td>\n",
              "      <td>-0.002339</td>\n",
              "      <td>0.060968</td>\n",
              "    </tr>\n",
              "    <tr>\n",
              "      <th>7</th>\n",
              "      <td>7</td>\n",
              "      <td>0.057810</td>\n",
              "      <td>-0.081998</td>\n",
              "      <td>-0.000990</td>\n",
              "      <td>0.100054</td>\n",
              "      <td>-0.000730</td>\n",
              "      <td>0.110572</td>\n",
              "    </tr>\n",
              "    <tr>\n",
              "      <th>8</th>\n",
              "      <td>8</td>\n",
              "      <td>0.055441</td>\n",
              "      <td>-0.069359</td>\n",
              "      <td>-0.001351</td>\n",
              "      <td>0.131041</td>\n",
              "      <td>0.014296</td>\n",
              "      <td>0.100965</td>\n",
              "    </tr>\n",
              "    <tr>\n",
              "      <th>9</th>\n",
              "      <td>9</td>\n",
              "      <td>0.058510</td>\n",
              "      <td>-0.055281</td>\n",
              "      <td>0.013723</td>\n",
              "      <td>0.042069</td>\n",
              "      <td>-0.009391</td>\n",
              "      <td>0.049636</td>\n",
              "    </tr>\n",
              "    <tr>\n",
              "      <th>10</th>\n",
              "      <td>10</td>\n",
              "      <td>-0.006263</td>\n",
              "      <td>0.008994</td>\n",
              "      <td>-0.009384</td>\n",
              "      <td>-0.033799</td>\n",
              "      <td>-0.000518</td>\n",
              "      <td>-0.008891</td>\n",
              "    </tr>\n",
              "    <tr>\n",
              "      <th>11</th>\n",
              "      <td>11</td>\n",
              "      <td>-0.065859</td>\n",
              "      <td>0.118750</td>\n",
              "      <td>0.000573</td>\n",
              "      <td>-0.012897</td>\n",
              "      <td>-0.005282</td>\n",
              "      <td>-0.110994</td>\n",
              "    </tr>\n",
              "  </tbody>\n",
              "</table>\n",
              "</div>"
            ],
            "text/plain": [
              "    mnth  embedding_1  embedding_2  ...  embedding_4  embedding_5  embedding_6\n",
              "0      0    -0.168876     0.172838  ...    -0.235097     0.036811    -0.119398\n",
              "1      1    -0.145668     0.159749  ...    -0.122840     0.031190    -0.070558\n",
              "2      2    -0.030205     0.051220  ...    -0.072153    -0.006712    -0.047676\n",
              "3      3     0.033358     0.023080  ...    -0.007227     0.003461     0.045994\n",
              "4      4     0.059757    -0.070353  ...     0.091542     0.003017     0.032427\n",
              "5      5     0.062198    -0.106543  ...     0.102868     0.009773     0.104152\n",
              "6      6     0.077810    -0.101529  ...     0.088480    -0.002339     0.060968\n",
              "7      7     0.057810    -0.081998  ...     0.100054    -0.000730     0.110572\n",
              "8      8     0.055441    -0.069359  ...     0.131041     0.014296     0.100965\n",
              "9      9     0.058510    -0.055281  ...     0.042069    -0.009391     0.049636\n",
              "10    10    -0.006263     0.008994  ...    -0.033799    -0.000518    -0.008891\n",
              "11    11    -0.065859     0.118750  ...    -0.012897    -0.005282    -0.110994\n",
              "\n",
              "[12 rows x 7 columns]"
            ]
          },
          "metadata": {
            "tags": []
          },
          "execution_count": 121
        }
      ]
    },
    {
      "cell_type": "code",
      "metadata": {
        "id": "NjsN4JO7ebRE",
        "colab_type": "code",
        "colab": {
          "base_uri": "https://localhost:8080/",
          "height": 421
        },
        "outputId": "d60a093e-c94b-4734-dfee-ce2731b0bc58"
      },
      "source": [
        "output_embeddings_df.iloc[:,1:]"
      ],
      "execution_count": 122,
      "outputs": [
        {
          "output_type": "execute_result",
          "data": {
            "text/html": [
              "<div>\n",
              "<style scoped>\n",
              "    .dataframe tbody tr th:only-of-type {\n",
              "        vertical-align: middle;\n",
              "    }\n",
              "\n",
              "    .dataframe tbody tr th {\n",
              "        vertical-align: top;\n",
              "    }\n",
              "\n",
              "    .dataframe thead th {\n",
              "        text-align: right;\n",
              "    }\n",
              "</style>\n",
              "<table border=\"1\" class=\"dataframe\">\n",
              "  <thead>\n",
              "    <tr style=\"text-align: right;\">\n",
              "      <th></th>\n",
              "      <th>embedding_1</th>\n",
              "      <th>embedding_2</th>\n",
              "      <th>embedding_3</th>\n",
              "      <th>embedding_4</th>\n",
              "      <th>embedding_5</th>\n",
              "      <th>embedding_6</th>\n",
              "    </tr>\n",
              "  </thead>\n",
              "  <tbody>\n",
              "    <tr>\n",
              "      <th>0</th>\n",
              "      <td>-0.168876</td>\n",
              "      <td>0.172838</td>\n",
              "      <td>-0.013046</td>\n",
              "      <td>-0.235097</td>\n",
              "      <td>0.036811</td>\n",
              "      <td>-0.119398</td>\n",
              "    </tr>\n",
              "    <tr>\n",
              "      <th>1</th>\n",
              "      <td>-0.145668</td>\n",
              "      <td>0.159749</td>\n",
              "      <td>-0.047113</td>\n",
              "      <td>-0.122840</td>\n",
              "      <td>0.031190</td>\n",
              "      <td>-0.070558</td>\n",
              "    </tr>\n",
              "    <tr>\n",
              "      <th>2</th>\n",
              "      <td>-0.030205</td>\n",
              "      <td>0.051220</td>\n",
              "      <td>0.003743</td>\n",
              "      <td>-0.072153</td>\n",
              "      <td>-0.006712</td>\n",
              "      <td>-0.047676</td>\n",
              "    </tr>\n",
              "    <tr>\n",
              "      <th>3</th>\n",
              "      <td>0.033358</td>\n",
              "      <td>0.023080</td>\n",
              "      <td>-0.005245</td>\n",
              "      <td>-0.007227</td>\n",
              "      <td>0.003461</td>\n",
              "      <td>0.045994</td>\n",
              "    </tr>\n",
              "    <tr>\n",
              "      <th>4</th>\n",
              "      <td>0.059757</td>\n",
              "      <td>-0.070353</td>\n",
              "      <td>-0.000044</td>\n",
              "      <td>0.091542</td>\n",
              "      <td>0.003017</td>\n",
              "      <td>0.032427</td>\n",
              "    </tr>\n",
              "    <tr>\n",
              "      <th>5</th>\n",
              "      <td>0.062198</td>\n",
              "      <td>-0.106543</td>\n",
              "      <td>0.005562</td>\n",
              "      <td>0.102868</td>\n",
              "      <td>0.009773</td>\n",
              "      <td>0.104152</td>\n",
              "    </tr>\n",
              "    <tr>\n",
              "      <th>6</th>\n",
              "      <td>0.077810</td>\n",
              "      <td>-0.101529</td>\n",
              "      <td>-0.002623</td>\n",
              "      <td>0.088480</td>\n",
              "      <td>-0.002339</td>\n",
              "      <td>0.060968</td>\n",
              "    </tr>\n",
              "    <tr>\n",
              "      <th>7</th>\n",
              "      <td>0.057810</td>\n",
              "      <td>-0.081998</td>\n",
              "      <td>-0.000990</td>\n",
              "      <td>0.100054</td>\n",
              "      <td>-0.000730</td>\n",
              "      <td>0.110572</td>\n",
              "    </tr>\n",
              "    <tr>\n",
              "      <th>8</th>\n",
              "      <td>0.055441</td>\n",
              "      <td>-0.069359</td>\n",
              "      <td>-0.001351</td>\n",
              "      <td>0.131041</td>\n",
              "      <td>0.014296</td>\n",
              "      <td>0.100965</td>\n",
              "    </tr>\n",
              "    <tr>\n",
              "      <th>9</th>\n",
              "      <td>0.058510</td>\n",
              "      <td>-0.055281</td>\n",
              "      <td>0.013723</td>\n",
              "      <td>0.042069</td>\n",
              "      <td>-0.009391</td>\n",
              "      <td>0.049636</td>\n",
              "    </tr>\n",
              "    <tr>\n",
              "      <th>10</th>\n",
              "      <td>-0.006263</td>\n",
              "      <td>0.008994</td>\n",
              "      <td>-0.009384</td>\n",
              "      <td>-0.033799</td>\n",
              "      <td>-0.000518</td>\n",
              "      <td>-0.008891</td>\n",
              "    </tr>\n",
              "    <tr>\n",
              "      <th>11</th>\n",
              "      <td>-0.065859</td>\n",
              "      <td>0.118750</td>\n",
              "      <td>0.000573</td>\n",
              "      <td>-0.012897</td>\n",
              "      <td>-0.005282</td>\n",
              "      <td>-0.110994</td>\n",
              "    </tr>\n",
              "  </tbody>\n",
              "</table>\n",
              "</div>"
            ],
            "text/plain": [
              "    embedding_1  embedding_2  ...  embedding_5  embedding_6\n",
              "0     -0.168876     0.172838  ...     0.036811    -0.119398\n",
              "1     -0.145668     0.159749  ...     0.031190    -0.070558\n",
              "2     -0.030205     0.051220  ...    -0.006712    -0.047676\n",
              "3      0.033358     0.023080  ...     0.003461     0.045994\n",
              "4      0.059757    -0.070353  ...     0.003017     0.032427\n",
              "5      0.062198    -0.106543  ...     0.009773     0.104152\n",
              "6      0.077810    -0.101529  ...    -0.002339     0.060968\n",
              "7      0.057810    -0.081998  ...    -0.000730     0.110572\n",
              "8      0.055441    -0.069359  ...     0.014296     0.100965\n",
              "9      0.058510    -0.055281  ...    -0.009391     0.049636\n",
              "10    -0.006263     0.008994  ...    -0.000518    -0.008891\n",
              "11    -0.065859     0.118750  ...    -0.005282    -0.110994\n",
              "\n",
              "[12 rows x 6 columns]"
            ]
          },
          "metadata": {
            "tags": []
          },
          "execution_count": 122
        }
      ]
    },
    {
      "cell_type": "code",
      "metadata": {
        "id": "3nSpo8W_eihc",
        "colab_type": "code",
        "colab": {
          "base_uri": "https://localhost:8080/",
          "height": 643
        },
        "outputId": "d926b456-c535-42ec-fff1-b5ada57fccba"
      },
      "source": [
        "m = output_embeddings_df.iloc[:,1:].as_matrix()\n",
        "labels = output_embeddings_df.iloc[:,0:1].as_matrix()\n",
        "fig = plt.figure(figsize=(20,10))\n",
        "ax = fig.add_subplot(111, projection='3d')\n",
        "\n",
        "for i in range(len(labels)):\n",
        "    ax.scatter(m[i,0],m[i,1],m[i,2], color='b')\n",
        "    ax.text(m[i,0],m[i,1],m[i,2],'%s'%(str(labels[i][0])), size=20, zorder=1, color='k')\n",
        "\n",
        "ax.set_xlabel('Embedding 1')  \n",
        "ax.set_ylabel('Embedding 2')  \n",
        "ax.set_zlabel('Embedding 3')  \n",
        "plt.show()"
      ],
      "execution_count": 123,
      "outputs": [
        {
          "output_type": "stream",
          "text": [
            "/usr/local/lib/python3.6/dist-packages/ipykernel_launcher.py:1: FutureWarning: Method .as_matrix will be removed in a future version. Use .values instead.\n",
            "  \"\"\"Entry point for launching an IPython kernel.\n",
            "/usr/local/lib/python3.6/dist-packages/ipykernel_launcher.py:2: FutureWarning: Method .as_matrix will be removed in a future version. Use .values instead.\n",
            "  \n"
          ],
          "name": "stderr"
        },
        {
          "output_type": "display_data",
          "data": {
            "image/png": "[encoded data removed]",
            "text/plain": [
              "<Figure size 1440x720 with 1 Axes>"
            ]
          },
          "metadata": {
            "tags": []
          }
        }
      ]
    },
    {
      "cell_type": "code",
      "metadata": {
        "id": "wf8L7eVgemeS",
        "colab_type": "code",
        "colab": {
          "base_uri": "https://localhost:8080/",
          "height": 34
        },
        "outputId": "b20827a6-fb65-43f6-cbf0-fd9efe72b96f"
      },
      "source": [
        "embedding_size"
      ],
      "execution_count": 117,
      "outputs": [
        {
          "output_type": "execute_result",
          "data": {
            "text/plain": [
              "12"
            ]
          },
          "metadata": {
            "tags": []
          },
          "execution_count": 117
        }
      ]
    },
    {
      "cell_type": "code",
      "metadata": {
        "id": "ovgyvngFfT-g",
        "colab_type": "code",
        "colab": {}
      },
      "source": [
        ""
      ],
      "execution_count": 0,
      "outputs": []
    }
  ]
}