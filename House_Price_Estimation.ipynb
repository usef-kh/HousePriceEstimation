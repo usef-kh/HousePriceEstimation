{
  "nbformat": 4,
  "nbformat_minor": 0,
  "metadata": {
    "colab": {
      "name": "House Price Estimation.ipynb",
      "version": "0.3.2",
      "provenance": [],
      "collapsed_sections": [
        "ER3idxqCD3V5",
        "QNRps5aFD96X",
        "4JofJOOBEZtt",
        "dU21mx5GTbMS",
        "stQMW8cWEDz9",
        "9_wIYwhQDY5M"
      ],
      "toc_visible": true
    },
    "kernelspec": {
      "name": "python3",
      "display_name": "Python 3"
    },
    "accelerator": "GPU"
  },
  "cells": [
    {
      "cell_type": "markdown",
      "metadata": {
        "id": "BAumECS0EI7Z",
        "colab_type": "text"
      },
      "source": [
        "## Loading Dataset"
      ]
    },
    {
      "cell_type": "code",
      "metadata": {
        "id": "Xnh4mW0fqEz7",
        "colab_type": "code",
        "colab": {}
      },
      "source": [
        "import pandas as pd\n",
        "import keras\n",
        "from keras import models\n",
        "from keras.layers import Embedding, Dense, Flatten\n",
        "import os\n",
        "import numpy as np\n",
        "import matplotlib.pyplot as plt\n",
        "from mpl_toolkits.mplot3d import Axes3D\n",
        "import sklearn\n",
        "from sklearn.preprocessing import MinMaxScaler\n",
        "%matplotlib inline \n",
        "\n",
        "# File loaded from Github Repo\n",
        "train_file_path = 'https://raw.githubusercontent.com/usef-kh/HousePriceEstimation/master/Data/train.csv'\n",
        "test_file_path = 'https://raw.githubusercontent.com/usef-kh/HousePriceEstimation/master/Data/test.csv'\n",
        "df = pd.read_csv(train_file_path)\n",
        "df_test = pd.read_csv(test_file_path)\n",
        "\n",
        "\n",
        "# frames = [df,df_test]\n",
        "# df = pd.concat(frames, keys=['train', 'test'],sort=False)\n",
        "# df.shape\n"
      ],
      "execution_count": 0,
      "outputs": []
    },
    {
      "cell_type": "code",
      "metadata": {
        "id": "DwfviUUVggLP",
        "colab_type": "code",
        "colab": {
          "base_uri": "https://localhost:8080/",
          "height": 34
        },
        "outputId": "1630aa52-0ea8-4e05-ad14-12cd0f7e3852"
      },
      "source": [
        "# df_test.shape"
      ],
      "execution_count": 376,
      "outputs": [
        {
          "output_type": "execute_result",
          "data": {
            "text/plain": [
              "(1459, 80)"
            ]
          },
          "metadata": {
            "tags": []
          },
          "execution_count": 376
        }
      ]
    },
    {
      "cell_type": "markdown",
      "metadata": {
        "id": "ER3idxqCD3V5",
        "colab_type": "text"
      },
      "source": [
        "## Processing Boolean Features"
      ]
    },
    {
      "cell_type": "code",
      "metadata": {
        "id": "3ZesOvyw7qOJ",
        "colab_type": "code",
        "colab": {
          "base_uri": "https://localhost:8080/",
          "height": 0
        },
        "outputId": "5fc3f86d-237f-41e4-fd25-0ea3e0e48475"
      },
      "source": [
        "df_bool = df['CentralAir']\n",
        "\n",
        "df_bool[df_bool == 'Y'] = 1\n",
        "df_bool[df_bool == 'N'] = 0\n",
        "\n",
        "df_bool.shape"
      ],
      "execution_count": 465,
      "outputs": [
        {
          "output_type": "stream",
          "text": [
            "/usr/local/lib/python3.6/dist-packages/ipykernel_launcher.py:3: SettingWithCopyWarning: \n",
            "A value is trying to be set on a copy of a slice from a DataFrame\n",
            "\n",
            "See the caveats in the documentation: http://pandas.pydata.org/pandas-docs/stable/indexing.html#indexing-view-versus-copy\n",
            "  This is separate from the ipykernel package so we can avoid doing imports until\n",
            "/usr/local/lib/python3.6/dist-packages/ipykernel_launcher.py:4: SettingWithCopyWarning: \n",
            "A value is trying to be set on a copy of a slice from a DataFrame\n",
            "\n",
            "See the caveats in the documentation: http://pandas.pydata.org/pandas-docs/stable/indexing.html#indexing-view-versus-copy\n",
            "  after removing the cwd from sys.path.\n"
          ],
          "name": "stderr"
        },
        {
          "output_type": "execute_result",
          "data": {
            "text/plain": [
              "(1460,)"
            ]
          },
          "metadata": {
            "tags": []
          },
          "execution_count": 465
        }
      ]
    },
    {
      "cell_type": "markdown",
      "metadata": {
        "id": "QNRps5aFD96X",
        "colab_type": "text"
      },
      "source": [
        "## Processing Numeric Features"
      ]
    },
    {
      "cell_type": "code",
      "metadata": {
        "id": "bLi-Y5Wy7umj",
        "colab_type": "code",
        "colab": {
          "base_uri": "https://localhost:8080/",
          "height": 139
        },
        "outputId": "a97ab334-7c6c-491a-8727-bc8e7553d2b9"
      },
      "source": [
        "df_numeric = df[['LotFrontage','LotArea','MasVnrArea','BsmtFinSF1','BsmtFinSF2','BsmtUnfSF','TotalBsmtSF','1stFlrSF','2ndFlrSF','LowQualFinSF','GrLivArea','BsmtFullBath','BsmtHalfBath','FullBath','HalfBath','BedroomAbvGr','KitchenAbvGr','TotRmsAbvGrd','Fireplaces','GarageCars','GarageArea','WoodDeckSF','OpenPorchSF','EnclosedPorch','3SsnPorch','ScreenPorch','PoolArea','MiscVal']]\n",
        "df_numeric.fillna(0, inplace=True)\n",
        "\n",
        "df_numeric.shape"
      ],
      "execution_count": 466,
      "outputs": [
        {
          "output_type": "stream",
          "text": [
            "/usr/local/lib/python3.6/dist-packages/pandas/core/frame.py:4034: SettingWithCopyWarning: \n",
            "A value is trying to be set on a copy of a slice from a DataFrame\n",
            "\n",
            "See the caveats in the documentation: http://pandas.pydata.org/pandas-docs/stable/indexing.html#indexing-view-versus-copy\n",
            "  downcast=downcast, **kwargs)\n"
          ],
          "name": "stderr"
        },
        {
          "output_type": "execute_result",
          "data": {
            "text/plain": [
              "(1460, 28)"
            ]
          },
          "metadata": {
            "tags": []
          },
          "execution_count": 466
        }
      ]
    },
    {
      "cell_type": "markdown",
      "metadata": {
        "id": "4JofJOOBEZtt",
        "colab_type": "text"
      },
      "source": [
        "## Processing Ranking Features"
      ]
    },
    {
      "cell_type": "code",
      "metadata": {
        "id": "1MdkdEn1EgXO",
        "colab_type": "code",
        "colab": {
          "base_uri": "https://localhost:8080/",
          "height": 224
        },
        "outputId": "3bee1a24-ecec-4301-a985-cbd3db8e30fb"
      },
      "source": [
        "df_ranking = df[['OverallQual','OverallCond','ExterQual','ExterCond','BsmtQual','BsmtCond','BsmtExposure','BsmtFinType1','BsmtFinType2','HeatingQC','KitchenQual','FireplaceQu','GarageQual','GarageCond','PoolQC','Fence']]\n",
        "df_ranking.head(5)"
      ],
      "execution_count": 334,
      "outputs": [
        {
          "output_type": "execute_result",
          "data": {
            "text/html": [
              "<div>\n",
              "<style scoped>\n",
              "    .dataframe tbody tr th:only-of-type {\n",
              "        vertical-align: middle;\n",
              "    }\n",
              "\n",
              "    .dataframe tbody tr th {\n",
              "        vertical-align: top;\n",
              "    }\n",
              "\n",
              "    .dataframe thead th {\n",
              "        text-align: right;\n",
              "    }\n",
              "</style>\n",
              "<table border=\"1\" class=\"dataframe\">\n",
              "  <thead>\n",
              "    <tr style=\"text-align: right;\">\n",
              "      <th></th>\n",
              "      <th></th>\n",
              "      <th>OverallQual</th>\n",
              "      <th>OverallCond</th>\n",
              "      <th>ExterQual</th>\n",
              "      <th>ExterCond</th>\n",
              "      <th>BsmtQual</th>\n",
              "      <th>BsmtCond</th>\n",
              "      <th>BsmtExposure</th>\n",
              "      <th>BsmtFinType1</th>\n",
              "      <th>BsmtFinType2</th>\n",
              "      <th>HeatingQC</th>\n",
              "      <th>KitchenQual</th>\n",
              "      <th>FireplaceQu</th>\n",
              "      <th>GarageQual</th>\n",
              "      <th>GarageCond</th>\n",
              "      <th>PoolQC</th>\n",
              "      <th>Fence</th>\n",
              "    </tr>\n",
              "  </thead>\n",
              "  <tbody>\n",
              "    <tr>\n",
              "      <th rowspan=\"5\" valign=\"top\">train</th>\n",
              "      <th>0</th>\n",
              "      <td>7</td>\n",
              "      <td>5</td>\n",
              "      <td>Gd</td>\n",
              "      <td>TA</td>\n",
              "      <td>Gd</td>\n",
              "      <td>TA</td>\n",
              "      <td>No</td>\n",
              "      <td>GLQ</td>\n",
              "      <td>Unf</td>\n",
              "      <td>Ex</td>\n",
              "      <td>Gd</td>\n",
              "      <td>NaN</td>\n",
              "      <td>TA</td>\n",
              "      <td>TA</td>\n",
              "      <td>NaN</td>\n",
              "      <td>NaN</td>\n",
              "    </tr>\n",
              "    <tr>\n",
              "      <th>1</th>\n",
              "      <td>6</td>\n",
              "      <td>8</td>\n",
              "      <td>TA</td>\n",
              "      <td>TA</td>\n",
              "      <td>Gd</td>\n",
              "      <td>TA</td>\n",
              "      <td>Gd</td>\n",
              "      <td>ALQ</td>\n",
              "      <td>Unf</td>\n",
              "      <td>Ex</td>\n",
              "      <td>TA</td>\n",
              "      <td>TA</td>\n",
              "      <td>TA</td>\n",
              "      <td>TA</td>\n",
              "      <td>NaN</td>\n",
              "      <td>NaN</td>\n",
              "    </tr>\n",
              "    <tr>\n",
              "      <th>2</th>\n",
              "      <td>7</td>\n",
              "      <td>5</td>\n",
              "      <td>Gd</td>\n",
              "      <td>TA</td>\n",
              "      <td>Gd</td>\n",
              "      <td>TA</td>\n",
              "      <td>Mn</td>\n",
              "      <td>GLQ</td>\n",
              "      <td>Unf</td>\n",
              "      <td>Ex</td>\n",
              "      <td>Gd</td>\n",
              "      <td>TA</td>\n",
              "      <td>TA</td>\n",
              "      <td>TA</td>\n",
              "      <td>NaN</td>\n",
              "      <td>NaN</td>\n",
              "    </tr>\n",
              "    <tr>\n",
              "      <th>3</th>\n",
              "      <td>7</td>\n",
              "      <td>5</td>\n",
              "      <td>TA</td>\n",
              "      <td>TA</td>\n",
              "      <td>TA</td>\n",
              "      <td>Gd</td>\n",
              "      <td>No</td>\n",
              "      <td>ALQ</td>\n",
              "      <td>Unf</td>\n",
              "      <td>Gd</td>\n",
              "      <td>Gd</td>\n",
              "      <td>Gd</td>\n",
              "      <td>TA</td>\n",
              "      <td>TA</td>\n",
              "      <td>NaN</td>\n",
              "      <td>NaN</td>\n",
              "    </tr>\n",
              "    <tr>\n",
              "      <th>4</th>\n",
              "      <td>8</td>\n",
              "      <td>5</td>\n",
              "      <td>Gd</td>\n",
              "      <td>TA</td>\n",
              "      <td>Gd</td>\n",
              "      <td>TA</td>\n",
              "      <td>Av</td>\n",
              "      <td>GLQ</td>\n",
              "      <td>Unf</td>\n",
              "      <td>Ex</td>\n",
              "      <td>Gd</td>\n",
              "      <td>TA</td>\n",
              "      <td>TA</td>\n",
              "      <td>TA</td>\n",
              "      <td>NaN</td>\n",
              "      <td>NaN</td>\n",
              "    </tr>\n",
              "  </tbody>\n",
              "</table>\n",
              "</div>"
            ],
            "text/plain": [
              "         OverallQual  OverallCond ExterQual  ... GarageCond PoolQC Fence\n",
              "train 0            7            5        Gd  ...         TA    NaN   NaN\n",
              "      1            6            8        TA  ...         TA    NaN   NaN\n",
              "      2            7            5        Gd  ...         TA    NaN   NaN\n",
              "      3            7            5        TA  ...         TA    NaN   NaN\n",
              "      4            8            5        Gd  ...         TA    NaN   NaN\n",
              "\n",
              "[5 rows x 16 columns]"
            ]
          },
          "metadata": {
            "tags": []
          },
          "execution_count": 334
        }
      ]
    },
    {
      "cell_type": "markdown",
      "metadata": {
        "id": "dU21mx5GTbMS",
        "colab_type": "text"
      },
      "source": [
        "## Processing Time Features"
      ]
    },
    {
      "cell_type": "code",
      "metadata": {
        "id": "QoWd_pASTahq",
        "colab_type": "code",
        "colab": {
          "base_uri": "https://localhost:8080/",
          "height": 34
        },
        "outputId": "e3ec8a7a-fefe-4192-d4f4-39e18bc71bdd"
      },
      "source": [
        "df_time = df[['YearBuilt','YearRemodAdd','YrSold']]\n",
        "\n",
        "df_time.head(10)\n",
        "\n",
        "reno_to_sale =  df_time['YrSold'].values - df_time['YearRemodAdd'].values\n",
        "const_to_sale =  df_time['YrSold'].values - df_time['YearBuilt'].values\n",
        "\n",
        "reno_to_sale[reno_to_sale < 0] = 0\n",
        "const_to_sale[const_to_sale < 0] = 0\n",
        "\n",
        "\n",
        "\n",
        "df_time.insert(2, \"Renovation to Sale\", reno_to_sale, True)\n",
        "df_time.insert(2, \"Construction to Sale\", const_to_sale, True)\n",
        "\n",
        "df_time = df_time[[\"Construction to Sale\",\"Renovation to Sale\"]]\n",
        "df_time.shape"
      ],
      "execution_count": 467,
      "outputs": [
        {
          "output_type": "execute_result",
          "data": {
            "text/plain": [
              "(1460, 2)"
            ]
          },
          "metadata": {
            "tags": []
          },
          "execution_count": 467
        }
      ]
    },
    {
      "cell_type": "markdown",
      "metadata": {
        "id": "stQMW8cWEDz9",
        "colab_type": "text"
      },
      "source": [
        "## Processing Categorical Features"
      ]
    },
    {
      "cell_type": "code",
      "metadata": {
        "id": "tC3Tu6zuD0dq",
        "colab_type": "code",
        "colab": {
          "base_uri": "https://localhost:8080/",
          "height": 187
        },
        "outputId": "aeb2b356-28b5-4107-fe94-fdab12b37622"
      },
      "source": [
        "df_catigorical = df[['MSSubClass','MSZoning','Street','Alley','LotShape','LandContour','Utilities','LotConfig','LandSlope','Neighborhood','Condition1','Condition2','BldgType','HouseStyle','YearBuilt','YearRemodAdd','RoofStyle','RoofMatl','Exterior1st','Exterior2nd','MasVnrType','Foundation','Heating','Electrical','Functional','GarageType','GarageYrBlt','GarageFinish','PavedDrive','MiscFeature','MoSold','YrSold','SaleType','SaleCondition']]\n",
        "\n",
        "\n",
        "df_catigorical.head(10)\n",
        "\n",
        "A = df_catigorical['YearBuilt'].unique()\n",
        "\n",
        "print(A)\n",
        "print(min(A))\n",
        "print(max(A))\n",
        "# scaler = MinMaxScaler()\n",
        "# data_df['ScaledPrice'] = scaler.fit_transform(data_df[['SalePrice']])\n",
        "# data_df.head()\n",
        "\n",
        "\n",
        "\n",
        "# data_df['Encode'] = -1\n",
        "\n",
        "\n",
        "# for i,a in enumerate(A):\n",
        "#   data_df.loc[data_df.Neighborhood == a, 'Encode'] = int(i)\n",
        "\n",
        "# data_df.head(12)\n",
        "# embedding_size = 3\n",
        "\n",
        "# model = models.Sequential()\n",
        "# model.add(Embedding(input_dim = A.size, output_dim = embedding_size, input_length = 1, name=\"embedding\"))\n",
        "# model.add(Flatten())\n",
        "# model.add(Dense(50, activation=\"relu\"))\n",
        "# model.add(Dense(15, activation=\"relu\"))\n",
        "# model.add(Dense(1))\n",
        "# model.compile(loss = \"mse\", optimizer = \"adam\", metrics=[\"accuracy\"])\n",
        "# model.fit(x = data_df['Encode'].as_matrix(), y=data_df['ScaledPrice'].as_matrix() , epochs = 50, batch_size = 4)\n",
        "\n",
        "# layer = model.get_layer('embedding')\n",
        "# output_embeddings = layer.get_weights()\n",
        "# output_embeddings\n",
        "\n",
        "# output_embeddings_df = pd.DataFrame(output_embeddings[0])\n",
        "# output_embeddings_df = output_embeddings_df.reset_index()\n",
        "# output_embeddings_df.columns = ['Neighborhood', 'embedding_1', 'embedding_2', 'embedding_3']#,'embedding_4', 'embedding_5', 'embedding_6']\n",
        "# output_embeddings_df"
      ],
      "execution_count": 199,
      "outputs": [
        {
          "output_type": "stream",
          "text": [
            "[2003 1976 2001 1915 2000 1993 2004 1973 1931 1939 1965 2005 1962 2006\n",
            " 1960 1929 1970 1967 1958 1930 2002 1968 2007 1951 1957 1927 1920 1966\n",
            " 1959 1994 1954 1953 1955 1983 1975 1997 1934 1963 1981 1964 1999 1972\n",
            " 1921 1945 1982 1998 1956 1948 1910 1995 1991 2009 1950 1961 1977 1985\n",
            " 1979 1885 1919 1990 1969 1935 1988 1971 1952 1936 1923 1924 1984 1926\n",
            " 1940 1941 1987 1986 2008 1908 1892 1916 1932 1918 1912 1947 1925 1900\n",
            " 1980 1989 1992 1949 1880 1928 1978 1922 1996 2010 1946 1913 1937 1942\n",
            " 1938 1974 1893 1914 1906 1890 1898 1904 1882 1875 1911 1917 1872 1905]\n",
            "1872\n",
            "2010\n"
          ],
          "name": "stdout"
        }
      ]
    },
    {
      "cell_type": "markdown",
      "metadata": {
        "id": "BuLpcA16Z1qM",
        "colab_type": "text"
      },
      "source": [
        "## Training Network"
      ]
    },
    {
      "cell_type": "code",
      "metadata": {
        "id": "8A0Y_YbaZ4qH",
        "colab_type": "code",
        "colab": {}
      },
      "source": [
        "from sklearn import preprocessing\n",
        "import numpy as np\n",
        "\n",
        "\n",
        "df_taining = pd.concat([df_numeric,df_time,df_bool, df[['SalePrice']]], axis=1)\n",
        "\n",
        "scaler = preprocessing.MinMaxScaler().fit(df_taining)\n",
        "\n",
        "train_data = scaler.transform(df_taining)\n",
        "\n",
        "x_train = train_data[:,0:-1]\n",
        "y_train = train_data[:,-1]\n"
      ],
      "execution_count": 0,
      "outputs": []
    },
    {
      "cell_type": "code",
      "metadata": {
        "id": "EQgcZ3bBseip",
        "colab_type": "code",
        "colab": {}
      },
      "source": [
        ""
      ],
      "execution_count": 0,
      "outputs": []
    },
    {
      "cell_type": "code",
      "metadata": {
        "id": "V_ws1gpDaBUJ",
        "colab_type": "code",
        "colab": {
          "base_uri": "https://localhost:8080/",
          "height": 68
        },
        "outputId": "9fa691a6-4d0d-4651-9bb6-c7c3e00becfb"
      },
      "source": [
        "print(x_train.shape)\n",
        "print(y_train.shape)\n",
        "print(x_test.shape)\n",
        "# print('------------')\n",
        "# print(test_data.shape)\n",
        "# print(test_target.shape)"
      ],
      "execution_count": 492,
      "outputs": [
        {
          "output_type": "stream",
          "text": [
            "(1460, 31)\n",
            "(1460,)\n",
            "(1459, 31)\n"
          ],
          "name": "stdout"
        }
      ]
    },
    {
      "cell_type": "code",
      "metadata": {
        "id": "9_lfNZgMaFfg",
        "colab_type": "code",
        "colab": {
          "base_uri": "https://localhost:8080/",
          "height": 255
        },
        "outputId": "ecd61ce0-cf53-44ce-9342-2cc30e5d53fa"
      },
      "source": [
        "from keras import models\n",
        "from keras import layers\n",
        "\n",
        "\n",
        "model = models.Sequential()\n",
        "model.add(layers.Dense(64, activation='relu', input_shape=(x_train.shape[1],)))\n",
        "model.add(layers.Dense(64, activation='relu'))\n",
        "model.add(layers.Dense(1))\n",
        "\n",
        "model.compile(optimizer='rmsprop',\n",
        "          loss='mse',\n",
        "          metrics=['mse'])\n",
        "\n",
        "model.summary()"
      ],
      "execution_count": 493,
      "outputs": [
        {
          "output_type": "stream",
          "text": [
            "Model: \"sequential_47\"\n",
            "_________________________________________________________________\n",
            "Layer (type)                 Output Shape              Param #   \n",
            "=================================================================\n",
            "dense_142 (Dense)            (None, 64)                2048      \n",
            "_________________________________________________________________\n",
            "dense_143 (Dense)            (None, 64)                4160      \n",
            "_________________________________________________________________\n",
            "dense_144 (Dense)            (None, 1)                 65        \n",
            "=================================================================\n",
            "Total params: 6,273\n",
            "Trainable params: 6,273\n",
            "Non-trainable params: 0\n",
            "_________________________________________________________________\n"
          ],
          "name": "stdout"
        }
      ]
    },
    {
      "cell_type": "code",
      "metadata": {
        "id": "bR8WqCNJaFnd",
        "colab_type": "code",
        "colab": {}
      },
      "source": [
        "history = model.fit(x_train,\n",
        "              y_train,\n",
        "              epochs=500,\n",
        "              batch_size=128,\n",
        "              validation_split=0.3,\n",
        "              verbose=0)"
      ],
      "execution_count": 0,
      "outputs": []
    },
    {
      "cell_type": "code",
      "metadata": {
        "id": "hbAz9kfNaJxo",
        "colab_type": "code",
        "colab": {
          "base_uri": "https://localhost:8080/",
          "height": 329
        },
        "outputId": "880df783-611c-46a2-c895-34fca06793ec"
      },
      "source": [
        "def loss_curve(history):\n",
        "  train_loss = history.history['loss']\n",
        "  val_loss = history.history['val_loss']\n",
        "  x_axis     = range(1, len(history.history['loss'])+1)\n",
        "  \n",
        "  plt.figure()\n",
        "  plt.plot(x_axis, train_loss, label=\"Training Loss\")\n",
        "  plt.plot(x_axis, val_loss, label=\"Validation Loss\")\n",
        "  plt.ylabel('Loss Value')\n",
        "  plt.xlabel('Epochs')\n",
        "  plt.title('Epochs vs Loss')\n",
        "  plt.legend()\n",
        "  print('Minimum Validation Loss is:' + str(min(val_loss)))\n",
        "  print('Epoch: ' + str(val_loss.index(min(val_loss))))\n",
        "  \n",
        "loss_curve(history)"
      ],
      "execution_count": 495,
      "outputs": [
        {
          "output_type": "stream",
          "text": [
            "Minimum Validation Loss is:0.0021090340882259717\n",
            "Epoch: 255\n"
          ],
          "name": "stdout"
        },
        {
          "output_type": "display_data",
          "data": {
            "image/png": "[encoded data removed]",
            "text/plain": [
              "<Figure size 432x288 with 1 Axes>"
            ]
          },
          "metadata": {
            "tags": []
          }
        }
      ]
    },
    {
      "cell_type": "code",
      "metadata": {
        "id": "aGHXLWIjpQrm",
        "colab_type": "code",
        "colab": {}
      },
      "source": [
        ""
      ],
      "execution_count": 0,
      "outputs": []
    },
    {
      "cell_type": "code",
      "metadata": {
        "id": "P6NqgStNjtNB",
        "colab_type": "code",
        "colab": {}
      },
      "source": [
        "results = (model.predict(x_test)*ystd)+ymean"
      ],
      "execution_count": 0,
      "outputs": []
    },
    {
      "cell_type": "code",
      "metadata": {
        "id": "iZoQcnM6pwk1",
        "colab_type": "code",
        "colab": {}
      },
      "source": [
        "pd.DataFrame(results).to_csv(\"file.csv\")"
      ],
      "execution_count": 0,
      "outputs": []
    },
    {
      "cell_type": "markdown",
      "metadata": {
        "id": "9_wIYwhQDY5M",
        "colab_type": "text"
      },
      "source": [
        "## Attempting K-Fold Validation"
      ]
    },
    {
      "cell_type": "code",
      "metadata": {
        "id": "r2btat_dBxvH",
        "colab_type": "code",
        "colab": {}
      },
      "source": [
        "from keras import models\n",
        "from keras import layers\n",
        "\n",
        "def build_model():\n",
        "    model = models.Sequential()\n",
        "    model.add(layers.Dense(64, activation='relu', input_shape=(train_data.shape[1],)))\n",
        "    model.add(layers.Dense(64, activation='relu'))\n",
        "    model.add(layers.Dense(1))\n",
        "\n",
        "    model.compile(optimizer='rmsprop',\n",
        "              loss='mse',\n",
        "              metrics=['mae'])\n",
        "    return model"
      ],
      "execution_count": 0,
      "outputs": []
    },
    {
      "cell_type": "code",
      "metadata": {
        "id": "0563G7MgCTFX",
        "colab_type": "code",
        "colab": {
          "base_uri": "https://localhost:8080/",
          "height": 85
        },
        "outputId": "660d7a50-e042-4c1f-abe4-65722d7ee4b0"
      },
      "source": [
        "k = 4\n",
        "num_val_samples = len(train_data) // k\n",
        "num_epochs = 1\n",
        "all_scores = []\n",
        "\n",
        "for i in range(k):\n",
        "    print(f'Processing fold # {i}')\n",
        "    val_data = train_data[i * num_val_samples: (i+1) * num_val_samples]\n",
        "    val_targets = train_targets[i * num_val_samples: (i+1) * num_val_samples]\n",
        "    \n",
        "    partial_train_data = np.concatenate(\n",
        "                            [train_data[:i * num_val_samples],\n",
        "                            train_data[(i+1) * num_val_samples:]],\n",
        "                            axis=0)\n",
        "    partial_train_targets = np.concatenate(\n",
        "                            [train_targets[:i * num_val_samples],\n",
        "                            train_targets[(i+1)*num_val_samples:]],\n",
        "                            axis=0)\n",
        "    model = build_model()\n",
        "    model.fit(partial_train_data,\n",
        "              partial_train_targets,\n",
        "              epochs=num_epochs,\n",
        "              batch_size=1,\n",
        "              verbose=0)\n",
        "    val_mse, val_mae = model.evaluate(val_data, val_targets, verbose=0)\n",
        "    all_scores.append(val_mae)"
      ],
      "execution_count": 119,
      "outputs": [
        {
          "output_type": "stream",
          "text": [
            "Processing fold # 0\n",
            "Processing fold # 1\n",
            "Processing fold # 2\n",
            "Processing fold # 3\n"
          ],
          "name": "stdout"
        }
      ]
    },
    {
      "cell_type": "code",
      "metadata": {
        "id": "o-ZrkzpJCVhV",
        "colab_type": "code",
        "colab": {
          "base_uri": "https://localhost:8080/",
          "height": 51
        },
        "outputId": "408538df-dcc8-4a7f-e3a8-7ae3cc9f544c"
      },
      "source": [
        "print(f'all_scores : {all_scores}')\n",
        "print(f'mean all scores : {np.mean(all_scores)}')"
      ],
      "execution_count": 120,
      "outputs": [
        {
          "output_type": "stream",
          "text": [
            "all_scores : [0.0465231002091545, 0.040386852132130974, 0.03962960404484239, 0.04446740938376074]\n",
            "mean all scores : 0.042751741442472145\n"
          ],
          "name": "stdout"
        }
      ]
    },
    {
      "cell_type": "code",
      "metadata": {
        "id": "B7qGJpHiCXdQ",
        "colab_type": "code",
        "colab": {}
      },
      "source": [
        "model = build_model()\n",
        "history = model.fit(train_data, train_targets, epochs=80, batch_size=16, verbose=0)\n",
        "# test_mse_score, test_mae_score = model.evaluate(test_data, test_targets)"
      ],
      "execution_count": 0,
      "outputs": []
    },
    {
      "cell_type": "code",
      "metadata": {
        "id": "qUBSwf2uC-j4",
        "colab_type": "code",
        "colab": {}
      },
      "source": [
        ""
      ],
      "execution_count": 0,
      "outputs": []
    },
    {
      "cell_type": "code",
      "metadata": {
        "id": "rO2VDUE0joyZ",
        "colab_type": "code",
        "colab": {}
      },
      "source": [
        ""
      ],
      "execution_count": 0,
      "outputs": []
    }
  ]
}