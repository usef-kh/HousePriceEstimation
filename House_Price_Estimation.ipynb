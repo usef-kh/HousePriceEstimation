{
  "nbformat": 4,
  "nbformat_minor": 0,
  "metadata": {
    "colab": {
      "name": "Untitled0.ipynb",
      "version": "0.3.2",
      "provenance": [],
      "toc_visible": true
    },
    "kernelspec": {
      "name": "python3",
      "display_name": "Python 3"
    },
    "accelerator": "GPU"
  },
  "cells": [
    {
      "cell_type": "markdown",
      "metadata": {
        "id": "F9d894oLZYbj",
        "colab_type": "text"
      },
      "source": [
        "## Importing Data"
      ]
    },
    {
      "cell_type": "code",
      "metadata": {
        "id": "IxsznQUcCMDm",
        "colab_type": "code",
        "colab": {
          "base_uri": "https://localhost:8080/",
          "height": 153
        },
        "outputId": "e6f4122c-fc26-4d36-ce93-a0c420c267ab"
      },
      "source": [
        "import pandas as pd\n",
        "import keras\n",
        "from keras import models\n",
        "from keras.layers import Embedding, Dense, Flatten\n",
        "import os\n",
        "import numpy as np\n",
        "import matplotlib.pyplot as plt\n",
        "from mpl_toolkits.mplot3d import Axes3D\n",
        "import sklearn\n",
        "from sklearn.preprocessing import MinMaxScaler\n",
        "import statistics\n",
        "\n",
        "import warnings\n",
        "warnings.filterwarnings('ignore')\n",
        "\n",
        "train_ratio = 0.8\n",
        "val_ratio = 1-train_ratio\n",
        "\n",
        "# Trainng Samples loaded from Github Repo\n",
        "data_file_path = 'https://raw.githubusercontent.com/usef-kh/HousePriceEstimation/master/Data/train.csv'\n",
        "data_df = pd.read_csv(data_file_path)\n",
        "\n",
        "# Testing Samples loaded from Github Repo\n",
        "test_file_path = 'https://raw.githubusercontent.com/usef-kh/HousePriceEstimation/master/Data/test.csv'\n",
        "test_df = pd.read_csv(test_file_path)\n",
        "\n",
        "#Sepertaing training samples from labels \n",
        "lables_df = data_df.iloc[:, -1]\n",
        "samples_df = data_df.iloc[:, 0:-1]\n",
        "\n",
        "#normlizing training labels\n",
        "y_train_df = lables_df[0:1165]\n",
        "y_val_df = lables_df[1165:1461]\n",
        "\n",
        "y_mean = statistics.mean(y_train_df)\n",
        "y_std = statistics.stdev(y_train_df)\n",
        "y_train_df = (y_train_df - y_mean) / y_std\n",
        "\n",
        "\n",
        "#Concatenating dataframs\n",
        "frames = [samples_df,test_df]\n",
        "df = pd.concat(frames, keys=['train', 'test'],sort=False)\n",
        "\n",
        "df.astype({'Id': 'int32'}).dtypes\n",
        "\n",
        "\n",
        "\n",
        "print('Training size:' + str(samples_df.shape))\n",
        "print('Testing size:' + str(test_df.shape))\n",
        "print('Total size:' + str(df.shape))\n",
        "\n",
        "print('-------------')\n",
        "print('Y_train: ' + str(y_train_df.shape))\n",
        "print('Y_val: ' + str(y_val_df.shape))\n",
        "print('Y_total: ' + str(y_val_df.shape[0] + y_train_df.shape[0] ))\n"
      ],
      "execution_count": 1,
      "outputs": [
        {
          "output_type": "stream",
          "text": [
            "Using TensorFlow backend.\n"
          ],
          "name": "stderr"
        },
        {
          "output_type": "stream",
          "text": [
            "Training size:(1460, 80)\n",
            "Testing size:(1459, 80)\n",
            "Total size:(2919, 80)\n",
            "-------------\n",
            "Y_train: (1165,)\n",
            "Y_val: (295,)\n",
            "Y_total: 1460\n"
          ],
          "name": "stdout"
        }
      ]
    },
    {
      "cell_type": "markdown",
      "metadata": {
        "id": "zkO0YNO-Dafc",
        "colab_type": "text"
      },
      "source": [
        "## Processing Boolean Features\n"
      ]
    },
    {
      "cell_type": "code",
      "metadata": {
        "id": "9YitgOW7C2R2",
        "colab_type": "code",
        "colab": {
          "base_uri": "https://localhost:8080/",
          "height": 34
        },
        "outputId": "a4b043c8-49ee-4ddf-b944-753b5262b5b9"
      },
      "source": [
        "df_bool = df['CentralAir']\n",
        "df_bool.fillna(0, inplace=True)\n",
        "\n",
        "df_bool[df_bool == 'Y'] = 1\n",
        "df_bool[df_bool == 'N'] = 0\n",
        "\n",
        "df_bool.shape"
      ],
      "execution_count": 2,
      "outputs": [
        {
          "output_type": "execute_result",
          "data": {
            "text/plain": [
              "(2919,)"
            ]
          },
          "metadata": {
            "tags": []
          },
          "execution_count": 2
        }
      ]
    },
    {
      "cell_type": "markdown",
      "metadata": {
        "id": "SpDNPZnfDkI2",
        "colab_type": "text"
      },
      "source": [
        "## Processing Numeric Features\n"
      ]
    },
    {
      "cell_type": "code",
      "metadata": {
        "id": "Z7dgB3gSDesg",
        "colab_type": "code",
        "colab": {
          "base_uri": "https://localhost:8080/",
          "height": 34
        },
        "outputId": "78ab9a44-c2cc-4a50-88d3-028300a1b63c"
      },
      "source": [
        "df_numeric = df[['LotFrontage','LotArea','MasVnrArea','BsmtFinSF1','BsmtFinSF2','BsmtUnfSF','TotalBsmtSF','1stFlrSF','2ndFlrSF','LowQualFinSF','GrLivArea','BsmtFullBath','BsmtHalfBath','FullBath','HalfBath','BedroomAbvGr','KitchenAbvGr','TotRmsAbvGrd','Fireplaces','GarageCars','GarageArea','WoodDeckSF','OpenPorchSF','EnclosedPorch','3SsnPorch','ScreenPorch','PoolArea','MiscVal']]\n",
        "df_numeric.fillna(0, inplace=True)\n",
        "\n",
        "df_numeric.shape"
      ],
      "execution_count": 3,
      "outputs": [
        {
          "output_type": "execute_result",
          "data": {
            "text/plain": [
              "(2919, 28)"
            ]
          },
          "metadata": {
            "tags": []
          },
          "execution_count": 3
        }
      ]
    },
    {
      "cell_type": "markdown",
      "metadata": {
        "id": "BaV5Qtd6D-aw",
        "colab_type": "text"
      },
      "source": [
        "## Processing Time Features\n"
      ]
    },
    {
      "cell_type": "code",
      "metadata": {
        "id": "GO15qz-aD-so",
        "colab_type": "code",
        "colab": {
          "base_uri": "https://localhost:8080/",
          "height": 34
        },
        "outputId": "c0844324-4bb5-4f8b-9dc1-58314e594348"
      },
      "source": [
        "df_time = df[['YearBuilt','YearRemodAdd','YrSold']]\n",
        "\n",
        "df_time.head(10)\n",
        "\n",
        "reno_to_sale =  df_time['YrSold'].values - df_time['YearRemodAdd'].values\n",
        "const_to_sale =  df_time['YrSold'].values - df_time['YearBuilt'].values\n",
        "\n",
        "reno_to_sale[reno_to_sale < 0] = 0\n",
        "const_to_sale[const_to_sale < 0] = 0\n",
        "\n",
        "\n",
        "\n",
        "df_time.insert(2, \"Renovation to Sale\", reno_to_sale, True)\n",
        "df_time.insert(2, \"Construction to Sale\", const_to_sale, True)\n",
        "\n",
        "df_time = df_time[[\"Construction to Sale\",\"Renovation to Sale\"]]\n",
        "df_time.shape"
      ],
      "execution_count": 4,
      "outputs": [
        {
          "output_type": "execute_result",
          "data": {
            "text/plain": [
              "(2919, 2)"
            ]
          },
          "metadata": {
            "tags": []
          },
          "execution_count": 4
        }
      ]
    },
    {
      "cell_type": "markdown",
      "metadata": {
        "id": "GrfgI-FOEOQP",
        "colab_type": "text"
      },
      "source": [
        "## Processing Cateorical Features"
      ]
    },
    {
      "cell_type": "code",
      "metadata": {
        "id": "k9E0ajp0EOjv",
        "colab_type": "code",
        "colab": {
          "base_uri": "https://localhost:8080/",
          "height": 683
        },
        "outputId": "3f630a4d-d30a-4736-cb4a-87dab315745d"
      },
      "source": [
        "categories = ['MSSubClass','MSZoning','Street','Alley','LotShape','LandContour','Utilities','LotConfig','LandSlope','Neighborhood','Condition1','Condition2','BldgType','HouseStyle','YearBuilt','YearRemodAdd','RoofStyle','RoofMatl','Exterior1st','Exterior2nd','MasVnrType','Foundation','Heating','Electrical','Functional','GarageType','GarageYrBlt','GarageFinish','PavedDrive','MiscFeature','MoSold','YrSold','SaleType','SaleCondition']\n",
        "df_cat = pd.DataFrame()\n",
        "for cat in categories:\n",
        "  \n",
        "  df_catigorical = df[[cat]]\n",
        "\n",
        "  #Determine Number of Catigories\n",
        "  A = df_catigorical[cat].unique()\n",
        "  df_catigorical['Encode'] = -1\n",
        "\n",
        "  for i,a in enumerate(A):\n",
        "    df_catigorical.loc[df_catigorical[cat] == a, 'Encode'] = int(i)\n",
        "\n",
        "  df_catigorical_train = df_catigorical[0:1165]\n",
        "\n",
        "  \n",
        "\n",
        "  #Obtain Encodings\n",
        "  embedding_size = 3\n",
        "\n",
        "  model = models.Sequential()\n",
        "  model.add(Embedding(input_dim = A.size, output_dim = embedding_size, input_length = 1, name=\"embedding\"))\n",
        "  model.add(Flatten())\n",
        "  model.add(Dense(50, activation=\"relu\"))\n",
        "  model.add(Dense(15, activation=\"relu\"))\n",
        "  model.add(Dense(1))\n",
        "  model.compile(loss = \"mse\", optimizer = \"adam\", metrics=[\"accuracy\"])\n",
        "  model.fit(x = df_catigorical_train['Encode'].as_matrix(), y=y_train_df.as_matrix() , epochs = 25, batch_size = 4, verbose = 0)\n",
        "\n",
        "  layer = model.get_layer('embedding')\n",
        "  output_embeddings = layer.get_weights()\n",
        "\n",
        "  #Store Encodings\n",
        "  output_embeddings_df = pd.DataFrame(output_embeddings[0])\n",
        "  output_embeddings_df = output_embeddings_df.reset_index()\n",
        "  output_embeddings_df.columns = ['MSSubClass', 'embedding_1', 'embedding_2', 'embedding_3']\n",
        "  embed = output_embeddings_df.values[:,1:]\n",
        "\n",
        "\n",
        "  #Set the Encoding Values\n",
        "  cols = ['E1','E2','E3']\n",
        "\n",
        "  df_catigorical[cols] = pd.DataFrame([-1*np.ones(len(cols))], index=df.index)\n",
        "\n",
        "  for i,a in enumerate(A):\n",
        "    df_catigorical.loc[df_catigorical['Encode'] == i, cols] = embed[i,:]\n",
        "\n",
        "  df_cat = pd.concat([df_cat, df_catigorical[cols]], axis=1)\n",
        "  print('Completed Category Number ' + str(categories.index(cat)+1) + ' out of ' + str(len(categories)))\n"
      ],
      "execution_count": 6,
      "outputs": [
        {
          "output_type": "stream",
          "text": [
            "WARNING:tensorflow:From /usr/local/lib/python3.6/dist-packages/keras/backend/tensorflow_backend.py:1033: The name tf.assign_add is deprecated. Please use tf.compat.v1.assign_add instead.\n",
            "\n",
            "WARNING:tensorflow:From /usr/local/lib/python3.6/dist-packages/keras/backend/tensorflow_backend.py:1020: The name tf.assign is deprecated. Please use tf.compat.v1.assign instead.\n",
            "\n",
            "Completed Category Number 1 out of 34\n",
            "Completed Category Number 2 out of 34\n",
            "Completed Category Number 3 out of 34\n",
            "Completed Category Number 4 out of 34\n",
            "Completed Category Number 5 out of 34\n",
            "Completed Category Number 6 out of 34\n",
            "Completed Category Number 7 out of 34\n",
            "Completed Category Number 8 out of 34\n",
            "Completed Category Number 9 out of 34\n",
            "Completed Category Number 10 out of 34\n",
            "Completed Category Number 11 out of 34\n",
            "Completed Category Number 12 out of 34\n",
            "Completed Category Number 13 out of 34\n",
            "Completed Category Number 14 out of 34\n",
            "Completed Category Number 15 out of 34\n",
            "Completed Category Number 16 out of 34\n",
            "Completed Category Number 17 out of 34\n",
            "Completed Category Number 18 out of 34\n",
            "Completed Category Number 19 out of 34\n",
            "Completed Category Number 20 out of 34\n",
            "Completed Category Number 21 out of 34\n",
            "Completed Category Number 22 out of 34\n",
            "Completed Category Number 23 out of 34\n",
            "Completed Category Number 24 out of 34\n",
            "Completed Category Number 25 out of 34\n",
            "Completed Category Number 26 out of 34\n",
            "Completed Category Number 27 out of 34\n",
            "Completed Category Number 28 out of 34\n",
            "Completed Category Number 29 out of 34\n",
            "Completed Category Number 30 out of 34\n",
            "Completed Category Number 31 out of 34\n",
            "Completed Category Number 32 out of 34\n",
            "Completed Category Number 33 out of 34\n",
            "Completed Category Number 34 out of 34\n"
          ],
          "name": "stdout"
        }
      ]
    },
    {
      "cell_type": "code",
      "metadata": {
        "id": "YBdonxFZNZS2",
        "colab_type": "code",
        "colab": {
          "base_uri": "https://localhost:8080/",
          "height": 34
        },
        "outputId": "f6f7637a-f23a-45ae-9168-7757d6d21981"
      },
      "source": [
        "df_cat.shape"
      ],
      "execution_count": 7,
      "outputs": [
        {
          "output_type": "execute_result",
          "data": {
            "text/plain": [
              "(2919, 102)"
            ]
          },
          "metadata": {
            "tags": []
          },
          "execution_count": 7
        }
      ]
    },
    {
      "cell_type": "markdown",
      "metadata": {
        "id": "mgrEoczfZdLy",
        "colab_type": "text"
      },
      "source": [
        "## Processing Ranking Features"
      ]
    },
    {
      "cell_type": "code",
      "metadata": {
        "id": "5AZyIQzUZd5P",
        "colab_type": "code",
        "colab": {
          "base_uri": "https://localhost:8080/",
          "height": 224
        },
        "outputId": "0f66041f-45ef-4a67-ecc1-0bae00138eae"
      },
      "source": [
        "df_ranking = df[['OverallQual','OverallCond','ExterQual','ExterCond','BsmtQual','BsmtCond','BsmtExposure','BsmtFinType1','BsmtFinType2','HeatingQC','KitchenQual','FireplaceQu','GarageQual','GarageCond','PoolQC','Fence']]\n",
        "df_ranking.head(5)"
      ],
      "execution_count": 32,
      "outputs": [
        {
          "output_type": "execute_result",
          "data": {
            "text/html": [
              "<div>\n",
              "<style scoped>\n",
              "    .dataframe tbody tr th:only-of-type {\n",
              "        vertical-align: middle;\n",
              "    }\n",
              "\n",
              "    .dataframe tbody tr th {\n",
              "        vertical-align: top;\n",
              "    }\n",
              "\n",
              "    .dataframe thead th {\n",
              "        text-align: right;\n",
              "    }\n",
              "</style>\n",
              "<table border=\"1\" class=\"dataframe\">\n",
              "  <thead>\n",
              "    <tr style=\"text-align: right;\">\n",
              "      <th></th>\n",
              "      <th></th>\n",
              "      <th>OverallQual</th>\n",
              "      <th>OverallCond</th>\n",
              "      <th>ExterQual</th>\n",
              "      <th>ExterCond</th>\n",
              "      <th>BsmtQual</th>\n",
              "      <th>BsmtCond</th>\n",
              "      <th>BsmtExposure</th>\n",
              "      <th>BsmtFinType1</th>\n",
              "      <th>BsmtFinType2</th>\n",
              "      <th>HeatingQC</th>\n",
              "      <th>KitchenQual</th>\n",
              "      <th>FireplaceQu</th>\n",
              "      <th>GarageQual</th>\n",
              "      <th>GarageCond</th>\n",
              "      <th>PoolQC</th>\n",
              "      <th>Fence</th>\n",
              "    </tr>\n",
              "  </thead>\n",
              "  <tbody>\n",
              "    <tr>\n",
              "      <th rowspan=\"5\" valign=\"top\">train</th>\n",
              "      <th>0</th>\n",
              "      <td>7</td>\n",
              "      <td>5</td>\n",
              "      <td>Gd</td>\n",
              "      <td>TA</td>\n",
              "      <td>Gd</td>\n",
              "      <td>TA</td>\n",
              "      <td>No</td>\n",
              "      <td>GLQ</td>\n",
              "      <td>Unf</td>\n",
              "      <td>Ex</td>\n",
              "      <td>Gd</td>\n",
              "      <td>NaN</td>\n",
              "      <td>TA</td>\n",
              "      <td>TA</td>\n",
              "      <td>NaN</td>\n",
              "      <td>NaN</td>\n",
              "    </tr>\n",
              "    <tr>\n",
              "      <th>1</th>\n",
              "      <td>6</td>\n",
              "      <td>8</td>\n",
              "      <td>TA</td>\n",
              "      <td>TA</td>\n",
              "      <td>Gd</td>\n",
              "      <td>TA</td>\n",
              "      <td>Gd</td>\n",
              "      <td>ALQ</td>\n",
              "      <td>Unf</td>\n",
              "      <td>Ex</td>\n",
              "      <td>TA</td>\n",
              "      <td>TA</td>\n",
              "      <td>TA</td>\n",
              "      <td>TA</td>\n",
              "      <td>NaN</td>\n",
              "      <td>NaN</td>\n",
              "    </tr>\n",
              "    <tr>\n",
              "      <th>2</th>\n",
              "      <td>7</td>\n",
              "      <td>5</td>\n",
              "      <td>Gd</td>\n",
              "      <td>TA</td>\n",
              "      <td>Gd</td>\n",
              "      <td>TA</td>\n",
              "      <td>Mn</td>\n",
              "      <td>GLQ</td>\n",
              "      <td>Unf</td>\n",
              "      <td>Ex</td>\n",
              "      <td>Gd</td>\n",
              "      <td>TA</td>\n",
              "      <td>TA</td>\n",
              "      <td>TA</td>\n",
              "      <td>NaN</td>\n",
              "      <td>NaN</td>\n",
              "    </tr>\n",
              "    <tr>\n",
              "      <th>3</th>\n",
              "      <td>7</td>\n",
              "      <td>5</td>\n",
              "      <td>TA</td>\n",
              "      <td>TA</td>\n",
              "      <td>TA</td>\n",
              "      <td>Gd</td>\n",
              "      <td>No</td>\n",
              "      <td>ALQ</td>\n",
              "      <td>Unf</td>\n",
              "      <td>Gd</td>\n",
              "      <td>Gd</td>\n",
              "      <td>Gd</td>\n",
              "      <td>TA</td>\n",
              "      <td>TA</td>\n",
              "      <td>NaN</td>\n",
              "      <td>NaN</td>\n",
              "    </tr>\n",
              "    <tr>\n",
              "      <th>4</th>\n",
              "      <td>8</td>\n",
              "      <td>5</td>\n",
              "      <td>Gd</td>\n",
              "      <td>TA</td>\n",
              "      <td>Gd</td>\n",
              "      <td>TA</td>\n",
              "      <td>Av</td>\n",
              "      <td>GLQ</td>\n",
              "      <td>Unf</td>\n",
              "      <td>Ex</td>\n",
              "      <td>Gd</td>\n",
              "      <td>TA</td>\n",
              "      <td>TA</td>\n",
              "      <td>TA</td>\n",
              "      <td>NaN</td>\n",
              "      <td>NaN</td>\n",
              "    </tr>\n",
              "  </tbody>\n",
              "</table>\n",
              "</div>"
            ],
            "text/plain": [
              "         OverallQual  OverallCond ExterQual  ... GarageCond PoolQC Fence\n",
              "train 0            7            5        Gd  ...         TA    NaN   NaN\n",
              "      1            6            8        TA  ...         TA    NaN   NaN\n",
              "      2            7            5        Gd  ...         TA    NaN   NaN\n",
              "      3            7            5        TA  ...         TA    NaN   NaN\n",
              "      4            8            5        Gd  ...         TA    NaN   NaN\n",
              "\n",
              "[5 rows x 16 columns]"
            ]
          },
          "metadata": {
            "tags": []
          },
          "execution_count": 32
        }
      ]
    },
    {
      "cell_type": "code",
      "metadata": {
        "id": "BEWfHeaKZ9-T",
        "colab_type": "code",
        "colab": {
          "base_uri": "https://localhost:8080/",
          "height": 34
        },
        "outputId": "56eeee86-e90c-4a0a-ba71-51aff271d933"
      },
      "source": [
        "ranks1 = ['NA' , 'No', 'Mn', 'Av' , 'Gd']\n",
        "\n",
        "ranks2 = ['Po' , 'Fa', 'TA', 'Gd' , 'Ex']\n",
        "\n",
        "ranks3 = ['NA' , 'Unf', 'LwQ', 'Rec' , 'BLQ', 'ALQ', 'GLQ']\n",
        "\n",
        "ranks4 = ['NA' , 'MnWw', 'GdWo', 'MnPrv' , 'GdPrv']\n",
        "\n",
        "#remove nan\n",
        "df_ranking.fillna(0, inplace=True)\n",
        "\n",
        "#do all other rankings\n",
        "for i,rank in enumerate(ranks4):\n",
        "  df_ranking.replace(rank,i, inplace = True)\n",
        "\n",
        "#do the different ranking\n",
        "for i,rank in enumerate(ranks1):\n",
        "  df_ranking.replace(rank,i, inplace = True)\n",
        "  \n",
        "#do all other rankings\n",
        "for i,rank in enumerate(ranks2):\n",
        "  df_ranking.replace(rank,i, inplace = True)\n",
        "  \n",
        "#do all other rankings\n",
        "for i,rank in enumerate(ranks3):\n",
        "  df_ranking.replace(rank,i, inplace = True)\n",
        "  \n",
        "\n",
        "  \n",
        "#fill NA with zero - from data description\n",
        "df_ranking.replace('NA' , 0 , inplace = True)\n",
        "\n",
        "df_ranking.shape\n",
        "\n",
        "\n",
        "# Ex\tExcellent\n",
        "#        Gd\tGood\n",
        "#        TA\tAverage/Typical\n",
        "#        Fa\tFair\n",
        "#        Po\tPoor\n"
      ],
      "execution_count": 47,
      "outputs": [
        {
          "output_type": "execute_result",
          "data": {
            "text/plain": [
              "(2919, 16)"
            ]
          },
          "metadata": {
            "tags": []
          },
          "execution_count": 47
        }
      ]
    },
    {
      "cell_type": "markdown",
      "metadata": {
        "id": "aU9kRQyWKFNI",
        "colab_type": "text"
      },
      "source": [
        "## Training Network"
      ]
    },
    {
      "cell_type": "code",
      "metadata": {
        "id": "BM8w5F5AFRvl",
        "colab_type": "code",
        "colab": {
          "base_uri": "https://localhost:8080/",
          "height": 153
        },
        "outputId": "172f7b04-bb9f-4a4f-dc26-10db41fad4ed"
      },
      "source": [
        "from sklearn import preprocessing\n",
        "import numpy as np\n",
        "\n",
        "\n",
        "final_df = pd.concat([df_numeric,df_time,df_bool,df_cat,df_ranking], axis=1)\n",
        "final_data = final_df.values\n",
        "\n",
        "# cats = df_cat.values[:,1:]\n",
        "x_train = final_data[0:1165]\n",
        "x_val = final_data[1165:1460]\n",
        "x_test = final_data[1460:]\n",
        "# training = np.concatenate((df_values, cats), axis=1)\n",
        "\n",
        "scaler = preprocessing.MinMaxScaler().fit(x_train)\n",
        "\n",
        "x_train = scaler.transform(x_train)\n",
        "x_val = scaler.transform(x_val)\n",
        "x_test = scaler.transform(x_test)\n",
        "\n",
        "y_train = y_train_df.values\n",
        "y_val = y_val_df.values\n",
        "\n",
        "\n",
        "print('Training size:' + str(x_train.shape))\n",
        "print('Validation size: ' + str(x_val.shape))\n",
        "print('Testing size: ' + str(x_test.shape))\n",
        "print('Total size: ' + str(x_train.shape[0] + x_val.shape[0] + x_test.shape[0] ))\n",
        "\n",
        "print('-------------')\n",
        "print('Y_train: ' + str(y_train_df.shape))\n",
        "print('Y_val: ' + str(y_val_df.shape))\n",
        "print('Y_total: ' + str(y_val_df.shape[0] + y_train_df.shape[0] ))"
      ],
      "execution_count": 48,
      "outputs": [
        {
          "output_type": "stream",
          "text": [
            "Training size:(1165, 149)\n",
            "Validation size: (295, 149)\n",
            "Testing size: (1459, 149)\n",
            "Total size: 2919\n",
            "-------------\n",
            "Y_train: (1165,)\n",
            "Y_val: (295,)\n",
            "Y_total: 1460\n"
          ],
          "name": "stdout"
        }
      ]
    },
    {
      "cell_type": "code",
      "metadata": {
        "id": "NQZHmlw-LyLI",
        "colab_type": "code",
        "colab": {
          "base_uri": "https://localhost:8080/",
          "height": 425
        },
        "outputId": "6ac0bbd6-94a3-4531-ee98-2c17fee693e8"
      },
      "source": [
        "from keras import models\n",
        "from keras import layers\n",
        "\n",
        "\n",
        "model = models.Sequential()\n",
        "model.add(layers.Dense(128, activation='relu', input_shape=(x_train.shape[1],)))\n",
        "model.add(layers.Dense(256, activation='relu'))\n",
        "model.add(layers.Dense(512, activation='relu'))\n",
        "model.add(layers.Dense(1024, activation='relu'))\n",
        "model.add(layers.Dense(512, activation='relu'))\n",
        "model.add(layers.Dense(256, activation='relu'))\n",
        "model.add(layers.Dense(128, activation='relu'))\n",
        "model.add(layers.Dense(1))\n",
        "\n",
        "model.compile(optimizer='adam',\n",
        "          loss='mse',\n",
        "          metrics=['mse'])\n",
        "\n",
        "model.summary()"
      ],
      "execution_count": 49,
      "outputs": [
        {
          "output_type": "stream",
          "text": [
            "Model: \"sequential_42\"\n",
            "_________________________________________________________________\n",
            "Layer (type)                 Output Shape              Param #   \n",
            "=================================================================\n",
            "dense_136 (Dense)            (None, 128)               19200     \n",
            "_________________________________________________________________\n",
            "dense_137 (Dense)            (None, 256)               33024     \n",
            "_________________________________________________________________\n",
            "dense_138 (Dense)            (None, 512)               131584    \n",
            "_________________________________________________________________\n",
            "dense_139 (Dense)            (None, 1024)              525312    \n",
            "_________________________________________________________________\n",
            "dense_140 (Dense)            (None, 512)               524800    \n",
            "_________________________________________________________________\n",
            "dense_141 (Dense)            (None, 256)               131328    \n",
            "_________________________________________________________________\n",
            "dense_142 (Dense)            (None, 128)               32896     \n",
            "_________________________________________________________________\n",
            "dense_143 (Dense)            (None, 1)                 129       \n",
            "=================================================================\n",
            "Total params: 1,398,273\n",
            "Trainable params: 1,398,273\n",
            "Non-trainable params: 0\n",
            "_________________________________________________________________\n"
          ],
          "name": "stdout"
        }
      ]
    },
    {
      "cell_type": "code",
      "metadata": {
        "id": "R3twZIfUL1Rd",
        "colab_type": "code",
        "colab": {
          "base_uri": "https://localhost:8080/",
          "height": 1000
        },
        "outputId": "e83bfb87-e425-4e28-b8d2-e5de606c9aa8"
      },
      "source": [
        "history = model.fit(x = x_train,\n",
        "              y = y_train,\n",
        "              validation_data=(x_val,y_val),\n",
        "              epochs=50,\n",
        "              batch_size=128,\n",
        "              verbose=1)\n",
        "\n",
        "# fit(x=None, y=None, batch_size=None, epochs=1, verbose=1, callbacks=None, validation_split=0.0, validation_data=None, shuffle=True, class_weight=None, sample_weight=None, initial_epoch=0, steps_per_epoch=None, validation_steps=None, validation_freq=1)"
      ],
      "execution_count": 50,
      "outputs": [
        {
          "output_type": "stream",
          "text": [
            "Train on 1165 samples, validate on 295 samples\n",
            "Epoch 1/50\n",
            "1165/1165 [==============================] - 3s 2ms/step - loss: 0.8441 - mean_squared_error: 0.8441 - val_loss: 40002308755.5254 - val_mean_squared_error: 40002308755.5254\n",
            "Epoch 2/50\n",
            "1165/1165 [==============================] - 0s 58us/step - loss: 0.3026 - mean_squared_error: 0.3026 - val_loss: 40002395854.5356 - val_mean_squared_error: 40002395854.5356\n",
            "Epoch 3/50\n",
            "1165/1165 [==============================] - 0s 56us/step - loss: 0.2131 - mean_squared_error: 0.2131 - val_loss: 40002119339.8237 - val_mean_squared_error: 40002119339.8237\n",
            "Epoch 4/50\n",
            "1165/1165 [==============================] - 0s 56us/step - loss: 0.2459 - mean_squared_error: 0.2459 - val_loss: 40002209840.5966 - val_mean_squared_error: 40002209840.5966\n",
            "Epoch 5/50\n",
            "1165/1165 [==============================] - 0s 54us/step - loss: 0.1660 - mean_squared_error: 0.1660 - val_loss: 40002387509.8034 - val_mean_squared_error: 40002387509.8034\n",
            "Epoch 6/50\n",
            "1165/1165 [==============================] - 0s 54us/step - loss: 0.1626 - mean_squared_error: 0.1626 - val_loss: 40002238665.3288 - val_mean_squared_error: 40002238665.3288\n",
            "Epoch 7/50\n",
            "1165/1165 [==============================] - 0s 53us/step - loss: 0.1313 - mean_squared_error: 0.1313 - val_loss: 40002365252.5559 - val_mean_squared_error: 40002365252.5559\n",
            "Epoch 8/50\n",
            "1165/1165 [==============================] - 0s 51us/step - loss: 0.1218 - mean_squared_error: 0.1218 - val_loss: 40002178155.6068 - val_mean_squared_error: 40002178155.6068\n",
            "Epoch 9/50\n",
            "1165/1165 [==============================] - 0s 49us/step - loss: 0.1164 - mean_squared_error: 0.1164 - val_loss: 40002368654.3186 - val_mean_squared_error: 40002368654.3186\n",
            "Epoch 10/50\n",
            "1165/1165 [==============================] - 0s 51us/step - loss: 0.1132 - mean_squared_error: 0.1132 - val_loss: 40002266643.0915 - val_mean_squared_error: 40002266643.0915\n",
            "Epoch 11/50\n",
            "1165/1165 [==============================] - 0s 56us/step - loss: 0.0862 - mean_squared_error: 0.0862 - val_loss: 40002285887.3492 - val_mean_squared_error: 40002285887.3492\n",
            "Epoch 12/50\n",
            "1165/1165 [==============================] - 0s 57us/step - loss: 0.0867 - mean_squared_error: 0.0867 - val_loss: 40002191679.3492 - val_mean_squared_error: 40002191679.3492\n",
            "Epoch 13/50\n",
            "1165/1165 [==============================] - 0s 58us/step - loss: 0.1053 - mean_squared_error: 0.1053 - val_loss: 40002359226.5763 - val_mean_squared_error: 40002359226.5763\n",
            "Epoch 14/50\n",
            "1165/1165 [==============================] - 0s 54us/step - loss: 0.0841 - mean_squared_error: 0.0841 - val_loss: 40002221045.5864 - val_mean_squared_error: 40002221045.5864\n",
            "Epoch 15/50\n",
            "1165/1165 [==============================] - 0s 58us/step - loss: 0.0678 - mean_squared_error: 0.0678 - val_loss: 40002257756.8542 - val_mean_squared_error: 40002257756.8542\n",
            "Epoch 16/50\n",
            "1165/1165 [==============================] - 0s 57us/step - loss: 0.0617 - mean_squared_error: 0.0617 - val_loss: 40002396243.3085 - val_mean_squared_error: 40002396243.3085\n",
            "Epoch 17/50\n",
            "1165/1165 [==============================] - 0s 62us/step - loss: 0.1133 - mean_squared_error: 0.1133 - val_loss: 40002225530.3593 - val_mean_squared_error: 40002225530.3593\n",
            "Epoch 18/50\n",
            "1165/1165 [==============================] - 0s 54us/step - loss: 0.0795 - mean_squared_error: 0.0795 - val_loss: 40002254896.5966 - val_mean_squared_error: 40002254896.5966\n",
            "Epoch 19/50\n",
            "1165/1165 [==============================] - 0s 49us/step - loss: 0.0708 - mean_squared_error: 0.0708 - val_loss: 40002317725.0712 - val_mean_squared_error: 40002317725.0712\n",
            "Epoch 20/50\n",
            "1165/1165 [==============================] - 0s 52us/step - loss: 0.0582 - mean_squared_error: 0.0582 - val_loss: 40002262005.5864 - val_mean_squared_error: 40002262005.5864\n",
            "Epoch 21/50\n",
            "1165/1165 [==============================] - 0s 52us/step - loss: 0.0554 - mean_squared_error: 0.0554 - val_loss: 40002183334.6170 - val_mean_squared_error: 40002183334.6170\n",
            "Epoch 22/50\n",
            "1165/1165 [==============================] - 0s 53us/step - loss: 0.0583 - mean_squared_error: 0.0583 - val_loss: 40002270739.0915 - val_mean_squared_error: 40002270739.0915\n",
            "Epoch 23/50\n",
            "1165/1165 [==============================] - 0s 53us/step - loss: 0.0457 - mean_squared_error: 0.0457 - val_loss: 40002247787.6068 - val_mean_squared_error: 40002247787.6068\n",
            "Epoch 24/50\n",
            "1165/1165 [==============================] - 0s 56us/step - loss: 0.0420 - mean_squared_error: 0.0420 - val_loss: 40002217879.8644 - val_mean_squared_error: 40002217879.8644\n",
            "Epoch 25/50\n",
            "1165/1165 [==============================] - 0s 53us/step - loss: 0.0390 - mean_squared_error: 0.0390 - val_loss: 40002262394.3593 - val_mean_squared_error: 40002262394.3593\n",
            "Epoch 26/50\n",
            "1165/1165 [==============================] - 0s 51us/step - loss: 0.0324 - mean_squared_error: 0.0324 - val_loss: 40002290677.5864 - val_mean_squared_error: 40002290677.5864\n",
            "Epoch 27/50\n",
            "1165/1165 [==============================] - 0s 54us/step - loss: 0.0389 - mean_squared_error: 0.0389 - val_loss: 40002268961.8441 - val_mean_squared_error: 40002268961.8441\n",
            "Epoch 28/50\n",
            "1165/1165 [==============================] - 0s 54us/step - loss: 0.0327 - mean_squared_error: 0.0327 - val_loss: 40002267726.1017 - val_mean_squared_error: 40002267726.1017\n",
            "Epoch 29/50\n",
            "1165/1165 [==============================] - 0s 51us/step - loss: 0.0296 - mean_squared_error: 0.0296 - val_loss: 40002267726.1017 - val_mean_squared_error: 40002267726.1017\n",
            "Epoch 30/50\n",
            "1165/1165 [==============================] - 0s 48us/step - loss: 0.0264 - mean_squared_error: 0.0264 - val_loss: 40002185653.3695 - val_mean_squared_error: 40002185653.3695\n",
            "Epoch 31/50\n",
            "1165/1165 [==============================] - 0s 56us/step - loss: 0.0474 - mean_squared_error: 0.0474 - val_loss: 40002282485.5864 - val_mean_squared_error: 40002282485.5864\n",
            "Epoch 32/50\n",
            "1165/1165 [==============================] - 0s 60us/step - loss: 0.0360 - mean_squared_error: 0.0360 - val_loss: 40002244385.8441 - val_mean_squared_error: 40002244385.8441\n",
            "Epoch 33/50\n",
            "1165/1165 [==============================] - 0s 51us/step - loss: 0.0490 - mean_squared_error: 0.0490 - val_loss: 40002213936.5966 - val_mean_squared_error: 40002213936.5966\n",
            "Epoch 34/50\n",
            "1165/1165 [==============================] - 0s 51us/step - loss: 0.0366 - mean_squared_error: 0.0366 - val_loss: 40002230862.1017 - val_mean_squared_error: 40002230862.1017\n",
            "Epoch 35/50\n",
            "1165/1165 [==============================] - 0s 53us/step - loss: 0.0285 - mean_squared_error: 0.0285 - val_loss: 40002242067.0915 - val_mean_squared_error: 40002242067.0915\n",
            "Epoch 36/50\n",
            "1165/1165 [==============================] - 0s 54us/step - loss: 0.0238 - mean_squared_error: 0.0238 - val_loss: 40002253119.3492 - val_mean_squared_error: 40002253119.3492\n",
            "Epoch 37/50\n",
            "1165/1165 [==============================] - 0s 50us/step - loss: 0.0223 - mean_squared_error: 0.0223 - val_loss: 40002229626.3593 - val_mean_squared_error: 40002229626.3593\n",
            "Epoch 38/50\n",
            "1165/1165 [==============================] - 0s 51us/step - loss: 0.0215 - mean_squared_error: 0.0215 - val_loss: 40002259534.1017 - val_mean_squared_error: 40002259534.1017\n",
            "Epoch 39/50\n",
            "1165/1165 [==============================] - 0s 50us/step - loss: 0.0186 - mean_squared_error: 0.0186 - val_loss: 40002284262.8339 - val_mean_squared_error: 40002284262.8339\n",
            "Epoch 40/50\n",
            "1165/1165 [==============================] - 0s 50us/step - loss: 0.0213 - mean_squared_error: 0.0213 - val_loss: 40002241372.8542 - val_mean_squared_error: 40002241372.8542\n",
            "Epoch 41/50\n",
            "1165/1165 [==============================] - 0s 50us/step - loss: 0.0245 - mean_squared_error: 0.0245 - val_loss: 40002223364.3390 - val_mean_squared_error: 40002223364.3390\n",
            "Epoch 42/50\n",
            "1165/1165 [==============================] - 0s 52us/step - loss: 0.0327 - mean_squared_error: 0.0327 - val_loss: 40002290677.5864 - val_mean_squared_error: 40002290677.5864\n",
            "Epoch 43/50\n",
            "1165/1165 [==============================] - 0s 49us/step - loss: 0.0337 - mean_squared_error: 0.0337 - val_loss: 40002298480.8136 - val_mean_squared_error: 40002298480.8136\n",
            "Epoch 44/50\n",
            "1165/1165 [==============================] - 0s 45us/step - loss: 0.0319 - mean_squared_error: 0.0319 - val_loss: 40002302424.0814 - val_mean_squared_error: 40002302424.0814\n",
            "Epoch 45/50\n",
            "1165/1165 [==============================] - 0s 49us/step - loss: 0.0282 - mean_squared_error: 0.0282 - val_loss: 40002276612.3390 - val_mean_squared_error: 40002276612.3390\n",
            "Epoch 46/50\n",
            "1165/1165 [==============================] - 0s 52us/step - loss: 0.0202 - mean_squared_error: 0.0202 - val_loss: 40002305437.0712 - val_mean_squared_error: 40002305437.0712\n",
            "Epoch 47/50\n",
            "1165/1165 [==============================] - 0s 56us/step - loss: 0.0192 - mean_squared_error: 0.0192 - val_loss: 40002234416.5966 - val_mean_squared_error: 40002234416.5966\n",
            "Epoch 48/50\n",
            "1165/1165 [==============================] - 0s 57us/step - loss: 0.0202 - mean_squared_error: 0.0202 - val_loss: 40002260228.3390 - val_mean_squared_error: 40002260228.3390\n",
            "Epoch 49/50\n",
            "1165/1165 [==============================] - 0s 53us/step - loss: 0.0189 - mean_squared_error: 0.0189 - val_loss: 40002302424.0814 - val_mean_squared_error: 40002302424.0814\n",
            "Epoch 50/50\n",
            "1165/1165 [==============================] - 0s 52us/step - loss: 0.0272 - mean_squared_error: 0.0272 - val_loss: 40002306367.3492 - val_mean_squared_error: 40002306367.3492\n"
          ],
          "name": "stdout"
        }
      ]
    },
    {
      "cell_type": "code",
      "metadata": {
        "id": "7GIaGv6FL3oU",
        "colab_type": "code",
        "colab": {
          "base_uri": "https://localhost:8080/",
          "height": 329
        },
        "outputId": "8e9334f8-e64c-45de-f7ab-c528226d09f8"
      },
      "source": [
        "def loss_curve(history):\n",
        "  train_loss = history.history['loss']\n",
        "  val_loss = history.history['val_loss']\n",
        "  x_axis     = range(1, len(history.history['loss'])+1)\n",
        "  \n",
        "  plt.figure()\n",
        "  plt.plot(x_axis, train_loss, label=\"Training Loss\")\n",
        "  plt.plot(x_axis, val_loss, label=\"Validation Loss\")\n",
        "  plt.ylabel('Loss Value')\n",
        "  plt.xlabel('Epochs')\n",
        "  plt.title('Epochs vs Loss')\n",
        "  plt.legend()\n",
        "  print('Minimum Validation Loss is:' + str(min(val_loss)))\n",
        "  print('Epoch: ' + str(val_loss.index(min(val_loss))))\n",
        "  \n",
        "loss_curve(history)"
      ],
      "execution_count": 51,
      "outputs": [
        {
          "output_type": "stream",
          "text": [
            "Minimum Validation Loss is:40002119339.82373\n",
            "Epoch: 2\n"
          ],
          "name": "stdout"
        },
        {
          "output_type": "display_data",
          "data": {
            "image/png": "[encoded data removed]",
            "text/plain": [
              "<Figure size 432x288 with 1 Axes>"
            ]
          },
          "metadata": {
            "tags": []
          }
        }
      ]
    },
    {
      "cell_type": "code",
      "metadata": {
        "id": "ZNVQf6D_L6da",
        "colab_type": "code",
        "colab": {
          "base_uri": "https://localhost:8080/",
          "height": 136
        },
        "outputId": "17b59250-811a-45d5-b4a0-dee46ac1b8ac"
      },
      "source": [
        "results = (model.predict(x_test)*y_std)+y_mean\n",
        "\n",
        "print(results)"
      ],
      "execution_count": 52,
      "outputs": [
        {
          "output_type": "stream",
          "text": [
            "[[123653.3 ]\n",
            " [150910.19]\n",
            " [185523.62]\n",
            " ...\n",
            " [139900.88]\n",
            " [117808.86]\n",
            " [214947.94]]\n"
          ],
          "name": "stdout"
        }
      ]
    },
    {
      "cell_type": "code",
      "metadata": {
        "id": "iZwKdFcHL78l",
        "colab_type": "code",
        "colab": {}
      },
      "source": [
        "pd.DataFrame(results).to_csv(\"file.csv\")"
      ],
      "execution_count": 0,
      "outputs": []
    },
    {
      "cell_type": "code",
      "metadata": {
        "id": "l7aTboTFeSMB",
        "colab_type": "code",
        "colab": {}
      },
      "source": [
        ""
      ],
      "execution_count": 0,
      "outputs": []
    }
  ]
}